{
 "cells": [
  {
   "cell_type": "markdown",
   "metadata": {},
   "source": [
    "# XXZ Spin-chain dynamics \n",
    "\n",
    "Here we simulate an spin-chain with a Hamiltonian with periodic boundary conditions for a long time and we are interested in the time-dependent behaviour of a local observable. Here we choose to look at the local magnetization $\\vec{s}_l(t) = \\left\\langle \\vec{\\sigma}_l(t)\\right\\rangle$. The Hamiltonian is \n",
    "\n",
    "$$ H = \\sum \\limits_{i}{\\sigma^x_i \\sigma^x_{i+1} + \\sigma^y_i \\sigma^y_{i+1} + \\Delta \\sigma^z_i \\sigma^z_{i+1}}$$\n"
   ]
  },
  {
   "cell_type": "code",
   "execution_count": 2,
   "metadata": {},
   "outputs": [],
   "source": [
    "import numpy as np\n",
    "import dit\n",
    "import time\n",
    "import numpy.linalg as LA\n",
    "import scipy.linalg as sLA\n",
    "import matplotlib.pyplot as plt"
   ]
  },
  {
   "cell_type": "markdown",
   "metadata": {},
   "source": [
    "Parameters of the simulation "
   ]
  },
  {
   "cell_type": "code",
   "execution_count": 3,
   "metadata": {},
   "outputs": [],
   "source": [
    "#size of chain\n",
    "L = 8\n",
    "\n",
    "#size of timestep\n",
    "dt = 0.05\n",
    "\n",
    "#Interaction strength\n",
    "DEL = 0.2"
   ]
  },
  {
   "cell_type": "markdown",
   "metadata": {},
   "source": [
    "Pauli matrices plus 2-by-2 identity matrix definition"
   ]
  },
  {
   "cell_type": "code",
   "execution_count": 4,
   "metadata": {},
   "outputs": [],
   "source": [
    "sx = np.array([[0,1],[1,0]])\n",
    "sy = np.array([[0, -1j],[1j,0]])\n",
    "sz = np.array([[1,0],[0,-1]])\n",
    "one = np.array([[1,0],[0,1]])"
   ]
  },
  {
   "cell_type": "markdown",
   "metadata": {},
   "source": [
    "Check that the operator kron does what it is supposed to "
   ]
  },
  {
   "cell_type": "code",
   "execution_count": 5,
   "metadata": {
    "scrolled": true
   },
   "outputs": [
    {
     "data": {
      "text/plain": [
       "array([[0, 1, 0, 0],\n",
       "       [1, 0, 0, 0],\n",
       "       [0, 0, 0, 1],\n",
       "       [0, 0, 1, 0]])"
      ]
     },
     "execution_count": 5,
     "metadata": {},
     "output_type": "execute_result"
    }
   ],
   "source": [
    "np.kron(one,sx)"
   ]
  },
  {
   "cell_type": "markdown",
   "metadata": {},
   "source": [
    "Define the operators that represents the local spin in matrix form. Use the Kronecker product."
   ]
  },
  {
   "cell_type": "code",
   "execution_count": 6,
   "metadata": {},
   "outputs": [],
   "source": [
    "SX = []\n",
    "for i in range(L):\n",
    "    left = np.identity(2**(i))\n",
    "    right = np.identity(2**(L-i-1))\n",
    "    tens1 = np.kron(left, sx)\n",
    "    tens2 = np.kron(tens1,right)\n",
    "    SX.append(tens2)\n",
    "\n",
    "SY = []\n",
    "for i in range(L):\n",
    "    left = np.identity(2**(i))\n",
    "    right = np.identity(2**(L-i-1))\n",
    "    tens1 = np.kron(left, sy)\n",
    "    tens2 = np.kron(tens1,right)\n",
    "    SY.append(tens2)\n",
    "\n",
    "SZ = []\n",
    "for i in range(L):\n",
    "    left = np.identity(2**(i))\n",
    "    right = np.identity(2**(L-i-1))\n",
    "    tens1 = np.kron(left, sz)\n",
    "    tens2 = np.kron(tens1,right)\n",
    "    SZ.append(tens2)"
   ]
  },
  {
   "cell_type": "markdown",
   "metadata": {},
   "source": [
    "Initialize the Hamiltonian to a all-zero matrix and then define the actual model"
   ]
  },
  {
   "cell_type": "code",
   "execution_count": 7,
   "metadata": {},
   "outputs": [],
   "source": [
    "H = np.zeros([2**L,2**L])"
   ]
  },
  {
   "cell_type": "code",
   "execution_count": 8,
   "metadata": {},
   "outputs": [],
   "source": [
    "for i in range(L-1):\n",
    "    H = H + np.matmul(SX[i],SX[i+1])+ np.matmul(SY[i],SY[i+1]) + DEL*np.matmul(SZ[i],SZ[i+1])\n",
    "\n",
    "H = H + np.matmul(SX[L-1],SX[0])+ np.matmul(SY[L-1],SY[0]) + DEL*np.matmul(SZ[L-1],SZ[0])"
   ]
  },
  {
   "cell_type": "markdown",
   "metadata": {},
   "source": [
    "Compute eigenvalues and eigenvectors"
   ]
  },
  {
   "cell_type": "code",
   "execution_count": 9,
   "metadata": {},
   "outputs": [],
   "source": [
    "e_val, e_vec = LA.eigh(H)\n",
    "\n",
    "#Sort them according to energy\n",
    "idx = e_val.argsort()[::-1]   \n",
    "e_val = e_val[idx]\n",
    "e_vec = e_vec[:,idx]\n",
    "#This needs to happen so that the eigenvectors are column-vectors and not row-vectors\n",
    "e_vec=e_vec.transpose()"
   ]
  },
  {
   "cell_type": "code",
   "execution_count": 10,
   "metadata": {},
   "outputs": [
    {
     "data": {
      "text/plain": [
       "(256,)"
      ]
     },
     "execution_count": 10,
     "metadata": {},
     "output_type": "execute_result"
    }
   ],
   "source": [
    "e_vec[0].shape"
   ]
  },
  {
   "cell_type": "code",
   "execution_count": 11,
   "metadata": {
    "scrolled": true
   },
   "outputs": [
    {
     "name": "stdout",
     "output_type": "stream",
     "text": [
      "(1.04644853542e-14+0j)\n",
      "(8.8174291327e-15+0j)\n",
      "(7.33349868834e-15+0j)\n"
     ]
    }
   ],
   "source": [
    "#use it if you are not sure about the shape of the vectors coming out\n",
    "for k in range(0,3):\n",
    "    vet = np.dot(H,e_vec[k])-e_val[k]*(e_vec[k])\n",
    "    print(np.sqrt(np.vdot(vet,vet)))"
   ]
  },
  {
   "cell_type": "code",
   "execution_count": 12,
   "metadata": {},
   "outputs": [
    {
     "data": {
      "image/png": "[encoded data removed]",
      "text/plain": [
       "<matplotlib.figure.Figure at 0x10d887898>"
      ]
     },
     "metadata": {
      "needs_background": "light"
     },
     "output_type": "display_data"
    }
   ],
   "source": [
    "plt.plot(np.linspace(0,2**L-1,2**L),e_val.real,'ro')\n",
    "plt.xlabel('$n$',fontsize=20)\n",
    "plt.ylabel('$E_n$',fontsize=20)\n",
    "plt.show()"
   ]
  },
  {
   "cell_type": "markdown",
   "metadata": {},
   "source": [
    "Define the unitary propagator"
   ]
  },
  {
   "cell_type": "code",
   "execution_count": 13,
   "metadata": {},
   "outputs": [],
   "source": [
    "unit = sLA.expm(-1j*H*dt)"
   ]
  },
  {
   "cell_type": "markdown",
   "metadata": {},
   "source": [
    "Choose the initial state $\\left\\vert \\psi_0 \\right\\rangle$"
   ]
  },
  {
   "cell_type": "code",
   "execution_count": 14,
   "metadata": {},
   "outputs": [],
   "source": [
    "s = str('')\n",
    "if np.mod(L, 2) == 0:\n",
    "    for i in range(int(L/2)):\n",
    "        s += '01'  \n",
    "else:\n",
    "    for i in range(int(L/2)):\n",
    "        s += '01'\n",
    "    s += '0'        "
   ]
  },
  {
   "cell_type": "code",
   "execution_count": 15,
   "metadata": {},
   "outputs": [],
   "source": [
    "#Use the code before to select the Antiferromagnetic order or simply input a sequence of 0 and 1\n",
    "#num = int(s, 2)\n",
    "num = int(s, 2)"
   ]
  },
  {
   "cell_type": "code",
   "execution_count": 16,
   "metadata": {},
   "outputs": [],
   "source": [
    "init = np.zeros(2**L)"
   ]
  },
  {
   "cell_type": "code",
   "execution_count": 17,
   "metadata": {},
   "outputs": [
    {
     "data": {
      "text/plain": [
       "(256,)"
      ]
     },
     "execution_count": 17,
     "metadata": {},
     "output_type": "execute_result"
    }
   ],
   "source": [
    "init[num] = 1\n",
    "init.shape"
   ]
  },
  {
   "cell_type": "code",
   "execution_count": 18,
   "metadata": {},
   "outputs": [
    {
     "name": "stdout",
     "output_type": "stream",
     "text": [
      "1.0\n",
      "-1.0\n",
      "1.0\n",
      "-1.0\n",
      "1.0\n",
      "-1.0\n",
      "1.0\n",
      "-1.0\n"
     ]
    }
   ],
   "source": [
    "#Check here that the magnetication profile is the correct one\n",
    "for k in range(0,L):\n",
    "    print(np.matmul(init.conj().T,np.matmul(SZ[k],init)))"
   ]
  },
  {
   "cell_type": "markdown",
   "metadata": {},
   "source": [
    "Find here some useful parameters of the model and initial state."
   ]
  },
  {
   "cell_type": "code",
   "execution_count": 19,
   "metadata": {},
   "outputs": [
    {
     "name": "stdout",
     "output_type": "stream",
     "text": [
      "Average Energy =  -1.6\n",
      "Energy Standard Deviation =  5.65685424949\n"
     ]
    },
    {
     "data": {
      "image/png": "[encoded data removed]",
      "text/plain": [
       "<matplotlib.figure.Figure at 0x1127ee1d0>"
      ]
     },
     "metadata": {
      "needs_background": "light"
     },
     "output_type": "display_data"
    }
   ],
   "source": [
    "Energy_Ave = np.dot(init.conj().T,np.dot(H,init))\n",
    "Energy_Std = (np.matmul(init.conj().T,np.matmul(H,np.matmul(H,init))) - Energy_Ave**2)**0.5\n",
    "print('Average Energy = ',Energy_Ave.real)\n",
    "print('Energy Standard Deviation = ',Energy_Std.real)\n",
    "PE = np.zeros(2**L)\n",
    "for k in range(0,2**L):\n",
    "    PE[k]=abs(np.vdot(e_vec[k],init))**2\n",
    "plt.plot(e_val,PE,'o')\n",
    "plt.show()"
   ]
  },
  {
   "cell_type": "code",
   "execution_count": 20,
   "metadata": {},
   "outputs": [
    {
     "name": "stdout",
     "output_type": "stream",
     "text": [
      "17.6776695297\n"
     ]
    }
   ],
   "source": [
    "delt=1/Energy_Std.real\n",
    "print(delt/0.01)"
   ]
  },
  {
   "cell_type": "markdown",
   "metadata": {},
   "source": [
    "Now perform the discrete-time-evolution and record the value of the local magnetization vector, at every time-step. This creates the time-series we are interested in."
   ]
  },
  {
   "cell_type": "code",
   "execution_count": 21,
   "metadata": {},
   "outputs": [
    {
     "name": "stdout",
     "output_type": "stream",
     "text": [
      "Iteration 0 took a time t= 0.0009539127349853516\n",
      "Iteration 20000 took a time t= 67.41519689559937\n",
      "Iteration 40000 took a time t= 138.5853180885315\n"
     ]
    },
    {
     "ename": "KeyboardInterrupt",
     "evalue": "",
     "output_type": "error",
     "traceback": [
      "\u001b[0;31m---------------------------------------------------------------------------\u001b[0m",
      "\u001b[0;31mKeyboardInterrupt\u001b[0m                         Traceback (most recent call last)",
      "\u001b[0;32m<ipython-input-21-e26d4091b8b3>\u001b[0m in \u001b[0;36m<module>\u001b[0;34m()\u001b[0m\n\u001b[1;32m     13\u001b[0m     \u001b[0;32mfor\u001b[0m \u001b[0mi\u001b[0m \u001b[0;32min\u001b[0m \u001b[0mrange\u001b[0m\u001b[0;34m(\u001b[0m\u001b[0mL\u001b[0m\u001b[0;34m)\u001b[0m\u001b[0;34m:\u001b[0m\u001b[0;34m\u001b[0m\u001b[0m\n\u001b[1;32m     14\u001b[0m         \u001b[0mmag_z\u001b[0m\u001b[0;34m[\u001b[0m\u001b[0mt\u001b[0m\u001b[0;34m]\u001b[0m\u001b[0;34m[\u001b[0m\u001b[0mi\u001b[0m\u001b[0;34m]\u001b[0m \u001b[0;34m=\u001b[0m \u001b[0mfloat\u001b[0m\u001b[0;34m(\u001b[0m\u001b[0mnp\u001b[0m\u001b[0;34m.\u001b[0m\u001b[0mreal\u001b[0m\u001b[0;34m(\u001b[0m\u001b[0mnp\u001b[0m\u001b[0;34m.\u001b[0m\u001b[0mmatmul\u001b[0m\u001b[0;34m(\u001b[0m\u001b[0mpsi_t\u001b[0m\u001b[0;34m.\u001b[0m\u001b[0mreshape\u001b[0m\u001b[0;34m(\u001b[0m\u001b[0;34m(\u001b[0m\u001b[0;36m1\u001b[0m\u001b[0;34m,\u001b[0m\u001b[0;36m2\u001b[0m\u001b[0;34m**\u001b[0m\u001b[0mL\u001b[0m\u001b[0;34m)\u001b[0m\u001b[0;34m)\u001b[0m\u001b[0;34m.\u001b[0m\u001b[0mconj\u001b[0m\u001b[0;34m(\u001b[0m\u001b[0;34m)\u001b[0m\u001b[0;34m,\u001b[0m\u001b[0mnp\u001b[0m\u001b[0;34m.\u001b[0m\u001b[0mmatmul\u001b[0m\u001b[0;34m(\u001b[0m\u001b[0mSZ\u001b[0m\u001b[0;34m[\u001b[0m\u001b[0mi\u001b[0m\u001b[0;34m]\u001b[0m\u001b[0;34m,\u001b[0m\u001b[0mpsi_t\u001b[0m\u001b[0;34m)\u001b[0m\u001b[0;34m)\u001b[0m\u001b[0;34m)\u001b[0m\u001b[0;34m)\u001b[0m\u001b[0;34m\u001b[0m\u001b[0m\n\u001b[0;32m---> 15\u001b[0;31m         \u001b[0mmag_x\u001b[0m\u001b[0;34m[\u001b[0m\u001b[0mt\u001b[0m\u001b[0;34m]\u001b[0m\u001b[0;34m[\u001b[0m\u001b[0mi\u001b[0m\u001b[0;34m]\u001b[0m \u001b[0;34m=\u001b[0m \u001b[0mfloat\u001b[0m\u001b[0;34m(\u001b[0m\u001b[0mnp\u001b[0m\u001b[0;34m.\u001b[0m\u001b[0mreal\u001b[0m\u001b[0;34m(\u001b[0m\u001b[0mnp\u001b[0m\u001b[0;34m.\u001b[0m\u001b[0mmatmul\u001b[0m\u001b[0;34m(\u001b[0m\u001b[0mpsi_t\u001b[0m\u001b[0;34m.\u001b[0m\u001b[0mreshape\u001b[0m\u001b[0;34m(\u001b[0m\u001b[0;34m(\u001b[0m\u001b[0;36m1\u001b[0m\u001b[0;34m,\u001b[0m\u001b[0;36m2\u001b[0m\u001b[0;34m**\u001b[0m\u001b[0mL\u001b[0m\u001b[0;34m)\u001b[0m\u001b[0;34m)\u001b[0m\u001b[0;34m.\u001b[0m\u001b[0mconj\u001b[0m\u001b[0;34m(\u001b[0m\u001b[0;34m)\u001b[0m\u001b[0;34m,\u001b[0m\u001b[0mnp\u001b[0m\u001b[0;34m.\u001b[0m\u001b[0mmatmul\u001b[0m\u001b[0;34m(\u001b[0m\u001b[0mSX\u001b[0m\u001b[0;34m[\u001b[0m\u001b[0mi\u001b[0m\u001b[0;34m]\u001b[0m\u001b[0;34m,\u001b[0m\u001b[0mpsi_t\u001b[0m\u001b[0;34m)\u001b[0m\u001b[0;34m)\u001b[0m\u001b[0;34m)\u001b[0m\u001b[0;34m)\u001b[0m\u001b[0;34m\u001b[0m\u001b[0m\n\u001b[0m\u001b[1;32m     16\u001b[0m         \u001b[0mmag_y\u001b[0m\u001b[0;34m[\u001b[0m\u001b[0mt\u001b[0m\u001b[0;34m]\u001b[0m\u001b[0;34m[\u001b[0m\u001b[0mi\u001b[0m\u001b[0;34m]\u001b[0m \u001b[0;34m=\u001b[0m \u001b[0mfloat\u001b[0m\u001b[0;34m(\u001b[0m\u001b[0mnp\u001b[0m\u001b[0;34m.\u001b[0m\u001b[0mreal\u001b[0m\u001b[0;34m(\u001b[0m\u001b[0mnp\u001b[0m\u001b[0;34m.\u001b[0m\u001b[0mmatmul\u001b[0m\u001b[0;34m(\u001b[0m\u001b[0mpsi_t\u001b[0m\u001b[0;34m.\u001b[0m\u001b[0mreshape\u001b[0m\u001b[0;34m(\u001b[0m\u001b[0;34m(\u001b[0m\u001b[0;36m1\u001b[0m\u001b[0;34m,\u001b[0m\u001b[0;36m2\u001b[0m\u001b[0;34m**\u001b[0m\u001b[0mL\u001b[0m\u001b[0;34m)\u001b[0m\u001b[0;34m)\u001b[0m\u001b[0;34m.\u001b[0m\u001b[0mconj\u001b[0m\u001b[0;34m(\u001b[0m\u001b[0;34m)\u001b[0m\u001b[0;34m,\u001b[0m\u001b[0mnp\u001b[0m\u001b[0;34m.\u001b[0m\u001b[0mmatmul\u001b[0m\u001b[0;34m(\u001b[0m\u001b[0mSY\u001b[0m\u001b[0;34m[\u001b[0m\u001b[0mi\u001b[0m\u001b[0;34m]\u001b[0m\u001b[0;34m,\u001b[0m\u001b[0mpsi_t\u001b[0m\u001b[0;34m)\u001b[0m\u001b[0;34m)\u001b[0m\u001b[0;34m)\u001b[0m\u001b[0;34m)\u001b[0m\u001b[0;34m\u001b[0m\u001b[0m\n",
      "\u001b[0;31mKeyboardInterrupt\u001b[0m: "
     ]
    }
   ],
   "source": [
    "start_time = time.time()\n",
    "timesteps = 1000000\n",
    "mag_z = np.zeros((timesteps,L))\n",
    "mag_x = np.zeros((timesteps,L))\n",
    "mag_y = np.zeros((timesteps,L))\n",
    "psi_t = init\n",
    "for t in range(timesteps):\n",
    "\n",
    "    if np.mod(t,20000) == 0:\n",
    "        Time = time.time() - start_time \n",
    "        print('Iteration',t,'took a time t=',time.time() - start_time)\n",
    "    psi_t = np.matmul(unit, psi_t)\n",
    "    for i in range(L):\n",
    "        mag_z[t][i] = float(np.real(np.matmul(psi_t.reshape((1,2**L)).conj(),np.matmul(SZ[i],psi_t))))\n",
    "        mag_x[t][i] = float(np.real(np.matmul(psi_t.reshape((1,2**L)).conj(),np.matmul(SX[i],psi_t))))\n",
    "        mag_y[t][i] = float(np.real(np.matmul(psi_t.reshape((1,2**L)).conj(),np.matmul(SY[i],psi_t))))"
   ]
  },
  {
   "cell_type": "markdown",
   "metadata": {},
   "source": [
    "Once the simulation is done, we can plot a few things to check that everything is in order."
   ]
  },
  {
   "cell_type": "code",
   "execution_count": 21,
   "metadata": {},
   "outputs": [],
   "source": [
    "mag_z1 = [mag_z[t][0] for t in range(250)]\n",
    "mag_x1 = [mag_x[t][0] for t in range(250)]\n",
    "mag_y1 = [mag_y[t][0] for t in range(250)]"
   ]
  },
  {
   "cell_type": "code",
   "execution_count": 22,
   "metadata": {
    "scrolled": true
   },
   "outputs": [
    {
     "data": {
      "image/png": "[encoded data removed]",
      "text/plain": [
       "<matplotlib.figure.Figure at 0x1187ee9b0>"
      ]
     },
     "metadata": {
      "needs_background": "light"
     },
     "output_type": "display_data"
    }
   ],
   "source": [
    "plt.plot(mag_z1)\n",
    "plt.show()"
   ]
  },
  {
   "cell_type": "code",
   "execution_count": 23,
   "metadata": {},
   "outputs": [],
   "source": [
    "np.save('./Data/LocalDyn_XXZ_DEL=0.2_dt=0.01_Nt=10**6_L='+str(L)+'_MagX.npy',mag_x)\n",
    "np.save('./Data/LocalDyn_XXZ_DEL=0.2_dt=0.01_Nt=10**6_L='+str(L)+'_MagY.npy',mag_y)\n",
    "np.save('./Data/LocalDyn_XXZ_DEL=0.2_dt=0.01_Nt=10**6_L='+str(L)+'_MagZ.npy',mag_z)"
   ]
  }
 ],
 "metadata": {
  "anaconda-cloud": {},
  "kernelspec": {
   "display_name": "Python 3",
   "language": "python",
   "name": "python3"
  },
  "language_info": {
   "codemirror_mode": {
    "name": "ipython",
    "version": 3
   },
   "file_extension": ".py",
   "mimetype": "text/x-python",
   "name": "python",
   "nbconvert_exporter": "python",
   "pygments_lexer": "ipython3",
   "version": "3.7.9"
  }
 },
 "nbformat": 4,
 "nbformat_minor": 2
}
