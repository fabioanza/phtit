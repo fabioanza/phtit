{
 "cells": [
  {
   "cell_type": "code",
   "execution_count": 1,
   "metadata": {},
   "outputs": [],
   "source": [
    "import numpy as np\n",
    "import datagen_Heisenberg as dgen\n",
    "import datagen_Config as dgen_conf\n",
    "import pickle\n",
    "from pathlib import Path\n",
    "import os\n",
    "import pandas as pd\n",
    "import calculations as tools\n",
    "import matplotlib.pyplot as plt\n",
    "import string"
   ]
  },
  {
   "cell_type": "code",
   "execution_count": 2,
   "metadata": {
    "scrolled": false
   },
   "outputs": [],
   "source": [
    "J_vec = np.array([1.1,12,37])\n",
    "B_vec = np.array([1,1,1])\n",
    "delta_t = 0.05\n",
    "T=200\n",
    "L = 6\n",
    "psi0 =np.zeros(2**L,dtype=complex)\n",
    "psi0[5] = 1\n",
    "psi0_tag = 'zzzzzz_000101'\n",
    "bc='closed'\n",
    "folder_path = \"./Test_Heisenberg\"\n",
    "\n",
    "datagen_Heisenberg_Test = dgen_conf.DataGen_Config(L,J_vec,B_vec,bc,delta_t,T,psi0,psi0_tag,folder_path)"
   ]
  },
  {
   "cell_type": "code",
   "execution_count": 3,
   "metadata": {},
   "outputs": [
    {
     "name": "stdout",
     "output_type": "stream",
     "text": [
      "Looking inside the database ./Test_Heisenberg/unit_database.json\n",
      "The data was already generated. Retreiving it at ./Test_Heisenberg/unit_6.pickle ... \n"
     ]
    }
   ],
   "source": [
    "UU = datagen_Heisenberg_Test.datagen('unit')"
   ]
  },
  {
   "cell_type": "code",
   "execution_count": 4,
   "metadata": {},
   "outputs": [
    {
     "name": "stdout",
     "output_type": "stream",
     "text": [
      "Hamiltonian parameters: L = 6, J = [ 1.1 12.  37. ], B = [1 1 1], bc = closed\n",
      "Looking inside the database ./Test_Heisenberg/ham_database.json\n",
      "The data was already generated. Retreiving it at ./Test_Heisenberg/ham_7.pickle ... \n"
     ]
    }
   ],
   "source": [
    "HH = datagen_Heisenberg_Test.datagen('ham')"
   ]
  },
  {
   "cell_type": "code",
   "execution_count": null,
   "metadata": {},
   "outputs": [],
   "source": []
  },
  {
   "cell_type": "code",
   "execution_count": 5,
   "metadata": {},
   "outputs": [
    {
     "name": "stdout",
     "output_type": "stream",
     "text": [
      "Hamiltonian parameters: L = 6, J = [ 1.1 12.  37. ], B = [1 1 1], bc = closed\n",
      "Looking inside the database ./Test_Heisenberg/eigs_database.json\n",
      "The data was already generated. Retreiving it at ./Test_Heisenberg/eigs_6.pickle ... \n"
     ]
    }
   ],
   "source": [
    "EIGS = datagen_Heisenberg_Test.datagen('eigs')"
   ]
  },
  {
   "cell_type": "code",
   "execution_count": 6,
   "metadata": {},
   "outputs": [
    {
     "name": "stdout",
     "output_type": "stream",
     "text": [
      "Looking inside the database ./Test_Heisenberg/dyn_database.json\n",
      "The data was already generated. Retreiving it at ./Test_Heisenberg/dyn_6.pickle ... \n"
     ]
    }
   ],
   "source": [
    "DYN = datagen_Heisenberg_Test.datagen('dyn')"
   ]
  },
  {
   "cell_type": "code",
   "execution_count": 7,
   "metadata": {},
   "outputs": [
    {
     "data": {
      "text/html": [
       "<div>\n",
       "<style scoped>\n",
       "    .dataframe tbody tr th:only-of-type {\n",
       "        vertical-align: middle;\n",
       "    }\n",
       "\n",
       "    .dataframe tbody tr th {\n",
       "        vertical-align: top;\n",
       "    }\n",
       "\n",
       "    .dataframe thead th {\n",
       "        text-align: right;\n",
       "    }\n",
       "</style>\n",
       "<table border=\"1\" class=\"dataframe\">\n",
       "  <thead>\n",
       "    <tr style=\"text-align: right;\">\n",
       "      <th></th>\n",
       "      <th>Size</th>\n",
       "      <th>J</th>\n",
       "      <th>B</th>\n",
       "      <th>bc</th>\n",
       "      <th>delta t</th>\n",
       "      <th>T</th>\n",
       "      <th>psi0_tag</th>\n",
       "      <th>Label</th>\n",
       "    </tr>\n",
       "  </thead>\n",
       "  <tbody>\n",
       "    <tr>\n",
       "      <th>0</th>\n",
       "      <td>0</td>\n",
       "      <td>[0, 0, 0]</td>\n",
       "      <td>[0, 0, 0]</td>\n",
       "      <td>open</td>\n",
       "      <td>0.00</td>\n",
       "      <td>0</td>\n",
       "      <td>tag0</td>\n",
       "      <td>0</td>\n",
       "    </tr>\n",
       "    <tr>\n",
       "      <th>1</th>\n",
       "      <td>2</td>\n",
       "      <td>[1.1, 12.0, 37.0]</td>\n",
       "      <td>[10, 13, 9]</td>\n",
       "      <td>closed</td>\n",
       "      <td>0.05</td>\n",
       "      <td>1000</td>\n",
       "      <td>xx_00</td>\n",
       "      <td>1</td>\n",
       "    </tr>\n",
       "    <tr>\n",
       "      <th>2</th>\n",
       "      <td>2</td>\n",
       "      <td>[1.1, 12.0, 37.0]</td>\n",
       "      <td>[10, 13, 9]</td>\n",
       "      <td>closed</td>\n",
       "      <td>0.05</td>\n",
       "      <td>100</td>\n",
       "      <td>xx_00</td>\n",
       "      <td>2</td>\n",
       "    </tr>\n",
       "    <tr>\n",
       "      <th>3</th>\n",
       "      <td>4</td>\n",
       "      <td>[1.1, 12.0, 37.0]</td>\n",
       "      <td>[10, 13, 9]</td>\n",
       "      <td>closed</td>\n",
       "      <td>0.05</td>\n",
       "      <td>100</td>\n",
       "      <td>xx_00</td>\n",
       "      <td>3</td>\n",
       "    </tr>\n",
       "    <tr>\n",
       "      <th>4</th>\n",
       "      <td>6</td>\n",
       "      <td>[1.1, 12.0, 37.0]</td>\n",
       "      <td>[1, 1, 9]</td>\n",
       "      <td>closed</td>\n",
       "      <td>0.05</td>\n",
       "      <td>200</td>\n",
       "      <td>xx_00</td>\n",
       "      <td>4</td>\n",
       "    </tr>\n",
       "    <tr>\n",
       "      <th>5</th>\n",
       "      <td>6</td>\n",
       "      <td>[1.1, 12.0, 37.0]</td>\n",
       "      <td>[1, 1, 9]</td>\n",
       "      <td>closed</td>\n",
       "      <td>0.05</td>\n",
       "      <td>200</td>\n",
       "      <td>zzzzzz_000101</td>\n",
       "      <td>5</td>\n",
       "    </tr>\n",
       "    <tr>\n",
       "      <th>6</th>\n",
       "      <td>6</td>\n",
       "      <td>[1.1, 12.0, 37.0]</td>\n",
       "      <td>[1, 1, 1]</td>\n",
       "      <td>closed</td>\n",
       "      <td>0.05</td>\n",
       "      <td>200</td>\n",
       "      <td>zzzzzz_000101</td>\n",
       "      <td>6</td>\n",
       "    </tr>\n",
       "    <tr>\n",
       "      <th>7</th>\n",
       "      <td>6</td>\n",
       "      <td>[1.1, 12.0, 37.0]</td>\n",
       "      <td>[1, 1, 1]</td>\n",
       "      <td>closed</td>\n",
       "      <td>0.05</td>\n",
       "      <td>200</td>\n",
       "      <td>xxxxxx_000000</td>\n",
       "      <td>7</td>\n",
       "    </tr>\n",
       "  </tbody>\n",
       "</table>\n",
       "</div>"
      ],
      "text/plain": [
       "   Size                  J            B      bc  delta t     T       psi0_tag  \\\n",
       "0     0          [0, 0, 0]    [0, 0, 0]    open     0.00     0           tag0   \n",
       "1     2  [1.1, 12.0, 37.0]  [10, 13, 9]  closed     0.05  1000          xx_00   \n",
       "2     2  [1.1, 12.0, 37.0]  [10, 13, 9]  closed     0.05   100          xx_00   \n",
       "3     4  [1.1, 12.0, 37.0]  [10, 13, 9]  closed     0.05   100          xx_00   \n",
       "4     6  [1.1, 12.0, 37.0]    [1, 1, 9]  closed     0.05   200          xx_00   \n",
       "5     6  [1.1, 12.0, 37.0]    [1, 1, 9]  closed     0.05   200  zzzzzz_000101   \n",
       "6     6  [1.1, 12.0, 37.0]    [1, 1, 1]  closed     0.05   200  zzzzzz_000101   \n",
       "7     6  [1.1, 12.0, 37.0]    [1, 1, 1]  closed     0.05   200  xxxxxx_000000   \n",
       "\n",
       "   Label  \n",
       "0      0  \n",
       "1      1  \n",
       "2      2  \n",
       "3      3  \n",
       "4      4  \n",
       "5      5  \n",
       "6      6  \n",
       "7      7  "
      ]
     },
     "execution_count": 7,
     "metadata": {},
     "output_type": "execute_result"
    }
   ],
   "source": [
    "datagen_Heisenberg_Test.print_database('dyn')"
   ]
  }
 ],
 "metadata": {
  "kernelspec": {
   "display_name": "Python 3",
   "language": "python",
   "name": "python3"
  },
  "language_info": {
   "codemirror_mode": {
    "name": "ipython",
    "version": 3
   },
   "file_extension": ".py",
   "mimetype": "text/x-python",
   "name": "python",
   "nbconvert_exporter": "python",
   "pygments_lexer": "ipython3",
   "version": "3.7.9"
  }
 },
 "nbformat": 4,
 "nbformat_minor": 4
}
