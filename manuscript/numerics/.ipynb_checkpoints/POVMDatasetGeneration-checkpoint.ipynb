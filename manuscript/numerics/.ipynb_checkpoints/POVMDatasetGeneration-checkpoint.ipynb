{
 "cells": [
  {
   "cell_type": "code",
   "execution_count": 1,
   "metadata": {},
   "outputs": [],
   "source": [
    "import numpy as np\n",
    "import matplotlib.pyplot as plt\n",
    "import random"
   ]
  },
  {
   "cell_type": "code",
   "execution_count": 2,
   "metadata": {},
   "outputs": [],
   "source": [
    "sample_gaussian = np.load('./Data/RandomStates_gaussian.npy')\n",
    "sample_exponential = np.load('./Data/RandomStates_exponential.npy')\n",
    "sample_diracdelta = np.load('./Data/RandomStates_diracdelta.npy')"
   ]
  },
  {
   "cell_type": "markdown",
   "metadata": {},
   "source": [
    "# SIC-POVM Dataset\n",
    "\n",
    "A SIC-POVM for a qubit is given the following set of effects. $E_j := \\frac{1}{4}\\left( \\mathbb{I} + \\vec{s}_j \\cdot \\vec{\\sigma} \\right)$ with\n",
    "\n",
    "$$\\vec{s}_1 = \\left( \\frac{1}{\\sqrt{3}}, \\frac{1}{\\sqrt{3}}, \\frac{1}{\\sqrt{3}}\\right) \\qquad \\vec{s}_2 = \\left( \\frac{1}{\\sqrt{3}}, -\\frac{1}{\\sqrt{3}}, -\\frac{1}{\\sqrt{3}}\\right) \\qquad \\vec{s}_3 = \\left( -\\frac{1}{\\sqrt{3}}, \\frac{1}{\\sqrt{3}}, -\\frac{1}{\\sqrt{3}}\\right) \\qquad \\vec{s}_4 = \\left( -\\frac{1}{\\sqrt{3}}, -\\frac{1}{\\sqrt{3}}, \\frac{1}{\\sqrt{3}}\\right)$$"
   ]
  },
  {
   "cell_type": "code",
   "execution_count": 3,
   "metadata": {},
   "outputs": [],
   "source": [
    "def boundaries_check(point):\n",
    "    if point[0]>=0 and point[0]<=1 and point[1]>=-np.pi and point[1]<=np.pi:\n",
    "        return True\n",
    "    else:\n",
    "        return False"
   ]
  },
  {
   "cell_type": "code",
   "execution_count": 4,
   "metadata": {},
   "outputs": [],
   "source": [
    "def psi(x,y):\n",
    "    if boundaries_check(np.array([x,y]))==True:\n",
    "        if x==1:\n",
    "            return np.array([0,1])\n",
    "        else:\n",
    "            return np.sqrt(1-x)*np.array([1,0])+np.sqrt(x)*np.exp(1j*y)*np.array([0,1])\n",
    "    else:\n",
    "        return print('The point x = {}, y = {} is not a valid state'.format(x,y))"
   ]
  },
  {
   "cell_type": "code",
   "execution_count": 5,
   "metadata": {},
   "outputs": [],
   "source": [
    "def expectation(A,psi):\n",
    "    aux = np.matmul(A,psi)\n",
    "    return np.vdot(psi,aux)"
   ]
  },
  {
   "cell_type": "code",
   "execution_count": 6,
   "metadata": {},
   "outputs": [],
   "source": [
    "sx = np.array([[0,1],[1,0]])\n",
    "sy = np.array([[0,-1j],[1j,0]])\n",
    "sz = np.array([[1,0],[0,-1]])\n",
    "id1 = np.eye(2)"
   ]
  },
  {
   "cell_type": "code",
   "execution_count": 7,
   "metadata": {},
   "outputs": [],
   "source": [
    "def observable(vector):\n",
    "    return 0.25*(np.eye(2)+vector[0]*sx+vector[1]*sy+vector[2]*sz)"
   ]
  },
  {
   "cell_type": "code",
   "execution_count": 8,
   "metadata": {},
   "outputs": [],
   "source": [
    "vec_povm = []\n",
    "vec_povm.append(1/np.sqrt(3)*np.array([1,1,1]))\n",
    "vec_povm.append(1/np.sqrt(3)*np.array([1,-1,-1]))\n",
    "vec_povm.append(1/np.sqrt(3)*np.array([-1,1,-1]))\n",
    "vec_povm.append(1/np.sqrt(3)*np.array([-1,-1,1]))"
   ]
  },
  {
   "cell_type": "code",
   "execution_count": 9,
   "metadata": {},
   "outputs": [],
   "source": [
    "SICPOVM = []\n",
    "for k in vec_povm:\n",
    "    SICPOVM.append(observable(k))"
   ]
  },
  {
   "cell_type": "code",
   "execution_count": 10,
   "metadata": {},
   "outputs": [
    {
     "data": {
      "text/plain": [
       "array([[1.+0.j, 0.+0.j],\n",
       "       [0.+0.j, 1.+0.j]])"
      ]
     },
     "execution_count": 10,
     "metadata": {},
     "output_type": "execute_result"
    }
   ],
   "source": [
    "SICPOVM[0]+SICPOVM[1]+SICPOVM[2]+SICPOVM[3]"
   ]
  },
  {
   "cell_type": "code",
   "execution_count": 11,
   "metadata": {},
   "outputs": [],
   "source": [
    "def sicpovm_prob(psi):\n",
    "    PP = []\n",
    "    for k in SICPOVM:\n",
    "        PP.append(expectation(k,psi))\n",
    "    return np.abs(PP)"
   ]
  },
  {
   "cell_type": "markdown",
   "metadata": {},
   "source": [
    "### Use numpy.random.choice to generate a sample "
   ]
  },
  {
   "cell_type": "code",
   "execution_count": 12,
   "metadata": {},
   "outputs": [],
   "source": [
    "def outcome_dataset_sicpovm(sample):\n",
    "    size = sample.shape[1]\n",
    "    outcome = 100*np.ones(size)\n",
    "    for k in range(size):\n",
    "        x = sample[0,k]\n",
    "        y = sample[1,k]\n",
    "        outcome[k] = np.random.choice(4,1,p=sicpovm_prob(psi(x,y)))[0]\n",
    "    return outcome"
   ]
  },
  {
   "cell_type": "code",
   "execution_count": 13,
   "metadata": {
    "scrolled": true
   },
   "outputs": [],
   "source": [
    "dataset_diracdelta_sicpovm = outcome_dataset_sicpovm(sample_diracdelta)\n",
    "dataset_gaussian_sicpovm = outcome_dataset_sicpovm(sample_gaussian)\n",
    "dataset_exponential_sicpovm = outcome_dataset_sicpovm(sample_exponential)"
   ]
  },
  {
   "cell_type": "code",
   "execution_count": 14,
   "metadata": {},
   "outputs": [
    {
     "data": {
      "image/png": "[encoded data removed]",
      "text/plain": [
       "<Figure size 432x288 with 1 Axes>"
      ]
     },
     "metadata": {
      "needs_background": "light"
     },
     "output_type": "display_data"
    }
   ],
   "source": [
    "n, bins, patches = plt.hist(dataset_gaussian_sicpovm, 20, facecolor='green', alpha=0.75)\n",
    "plt.xlabel('Outcomes')\n",
    "plt.ylabel('Counts')\n",
    "#plt.axis([0,1,2,3])\n",
    "plt.grid(True)"
   ]
  },
  {
   "cell_type": "code",
   "execution_count": 16,
   "metadata": {},
   "outputs": [],
   "source": [
    "np.save('./Data/Dataset_DiracDelta_SICPOVM',dataset_diracdelta_sicpovm)\n",
    "np.save('./Data/Dataset_Gaussian_SICPOVM',dataset_gaussian_sicpovm)\n",
    "np.save('./Data/Dataset_Exponential_SICPOVM',dataset_exponential_sicpovm)"
   ]
  },
  {
   "cell_type": "markdown",
   "metadata": {},
   "source": [
    "# Spin along arbitrary direction"
   ]
  },
  {
   "cell_type": "code",
   "execution_count": 17,
   "metadata": {},
   "outputs": [],
   "source": [
    "def psi_thetaphi(theta,phi):\n",
    "    return np.cos(theta/2)*np.array([1,0])+np.sin(theta/2)*np.exp(1j*phi)*np.array([0,1])"
   ]
  },
  {
   "cell_type": "code",
   "execution_count": 18,
   "metadata": {},
   "outputs": [],
   "source": [
    "def PI_P(theta,phi):\n",
    "    return np.array([[(np.cos(theta/2))**2, np.sin(theta/2)*np.cos(theta/2)*np.exp(-1j*phi)],[np.sin(theta/2)*np.cos(theta/2)*np.exp(+1j*phi),(np.sin(theta/2))**2]])\n",
    "\n",
    "def PI_M(theta,phi):\n",
    "    return np.eye(2)-PI_P(theta,phi)"
   ]
  },
  {
   "cell_type": "code",
   "execution_count": 19,
   "metadata": {},
   "outputs": [],
   "source": [
    "def spinpovm_prob(psi,theta,phi):\n",
    "    PP = []\n",
    "    for k in [PI_P(theta,phi),PI_M(theta,phi)]:\n",
    "        PP.append(expectation(k,psi))\n",
    "    return np.abs(PP)"
   ]
  },
  {
   "cell_type": "code",
   "execution_count": 20,
   "metadata": {},
   "outputs": [],
   "source": [
    "def outcome_dataset_spinpovm(sample,theta,phi):\n",
    "    size = sample.shape[1]\n",
    "    outcome = 100*np.ones(size)\n",
    "    for k in range(size):\n",
    "        x = sample[0,k]\n",
    "        y = sample[1,k]\n",
    "        outcome[k] = np.random.choice(2,1,p=spinpovm_prob(psi(x,y),theta,phi))\n",
    "    return outcome"
   ]
  },
  {
   "cell_type": "code",
   "execution_count": 21,
   "metadata": {
    "scrolled": false
   },
   "outputs": [],
   "source": [
    "theta0 , phi0 = 2*np.arccos(np.sqrt(1-0.6)), np.pi/4\n",
    "dataset_diracdelta_spinpovm = outcome_dataset_spinpovm(sample_diracdelta,theta0,phi0)\n",
    "dataset_gaussian_spinpovm = outcome_dataset_spinpovm(sample_gaussian,theta0,phi0)\n",
    "dataset_exponential_spinpovm = outcome_dataset_spinpovm(sample_exponential,theta0,phi0)"
   ]
  },
  {
   "cell_type": "code",
   "execution_count": 22,
   "metadata": {},
   "outputs": [
    {
     "data": {
      "image/png": "[encoded data removed]",
      "text/plain": [
       "<Figure size 432x288 with 1 Axes>"
      ]
     },
     "metadata": {
      "needs_background": "light"
     },
     "output_type": "display_data"
    }
   ],
   "source": [
    "n, bins, patches = plt.hist(dataset_gaussian_spinpovm, 20, facecolor='green', alpha=0.75)\n",
    "plt.xlabel('Outcomes')\n",
    "plt.ylabel('Counts')\n",
    "#plt.axis([0,1,2,3])\n",
    "plt.grid(True)"
   ]
  },
  {
   "cell_type": "code",
   "execution_count": null,
   "metadata": {},
   "outputs": [],
   "source": []
  }
 ],
 "metadata": {
  "kernelspec": {
   "display_name": "Python 3",
   "language": "python",
   "name": "python3"
  },
  "language_info": {
   "codemirror_mode": {
    "name": "ipython",
    "version": 3
   },
   "file_extension": ".py",
   "mimetype": "text/x-python",
   "name": "python",
   "nbconvert_exporter": "python",
   "pygments_lexer": "ipython3",
   "version": "3.7.6"
  }
 },
 "nbformat": 4,
 "nbformat_minor": 4
}
