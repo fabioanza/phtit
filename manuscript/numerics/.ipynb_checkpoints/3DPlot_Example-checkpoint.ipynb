{
 "cells": [
  {
   "cell_type": "code",
   "execution_count": null,
   "metadata": {},
   "outputs": [],
   "source": [
    "import matplotlib.pyplot as plt\n",
    "from matplotlib import cm\n",
    "import numpy as np\n",
    "\n",
    "from mpl_toolkits.mplot3d.axes3d import get_test_data"
   ]
  },
  {
   "cell_type": "code",
   "execution_count": 51,
   "metadata": {},
   "outputs": [],
   "source": [
    "rho = np.array([[0.45,0.2-1j*0.3],[0.2+1j*0.3,0.55]])\n",
    "e_val, e_vec = np.linalg.eigh(rho)\n",
    "rho_inv = np.linalg.inv(rho)"
   ]
  },
  {
   "cell_type": "code",
   "execution_count": 60,
   "metadata": {},
   "outputs": [],
   "source": [
    "QQ = (2*np.pi*e_val[0]*e_val[1])/(e_val[1]-e_val[0])*((np.exp(-1/(2*e_val[1])))-(np.exp(-1/(2*e_val[0]))))"
   ]
  },
  {
   "cell_type": "code",
   "execution_count": 48,
   "metadata": {},
   "outputs": [],
   "source": [
    "p_plus, phi_plus = 0.568, 0.983\n",
    "p_minus, phi_minus = 0.432, 4.124"
   ]
  },
  {
   "cell_type": "code",
   "execution_count": 49,
   "metadata": {},
   "outputs": [],
   "source": [
    "X_plus = np.argmin(np.abs(X[0]-p_plus)**2)\n",
    "X_minus = np.argmin(np.abs(X[0]-p_minus)**2)\n",
    "\n",
    "Y_plus = np.argmin(np.abs(Y[:,0]-phi_plus)**2)\n",
    "Y_minus = np.argmin(np.abs(Y[:,0]-phi_minus)**2)"
   ]
  },
  {
   "cell_type": "code",
   "execution_count": 78,
   "metadata": {},
   "outputs": [
    {
     "data": {
      "text/plain": [
       "(629, 100)"
      ]
     },
     "execution_count": 78,
     "metadata": {},
     "output_type": "execute_result"
    }
   ],
   "source": [
    "X.shape"
   ]
  },
  {
   "cell_type": "code",
   "execution_count": null,
   "metadata": {},
   "outputs": [],
   "source": [
    "# set up a figure twice as wide as it is tall\n",
    "fig = plt.figure(figsize=(18,7))\n",
    "\n",
    "#===============\n",
    "#  First subplot\n",
    "#===============\n",
    "# set up the axes for the first plot\n",
    "ax = fig.add_subplot(1, 2, 1, projection='3d')\n",
    "\n",
    "X = np.arange(0, 1, 0.01)\n",
    "Y = np.arange(0, 2*np.pi, 0.01)\n",
    "X, Y = np.meshgrid(X, Y)\n",
    "Z1 = np.zeros(X.shape)\n",
    "Z1[Y_minus,X_minus], Z1[Y_plus,X_plus] = e_val[0], e_val[1]\n",
    "surf2 = ax.plot_surface(X, Y, Z1, rstride=1, cstride=1, cmap=cm.coolwarm,\n",
    "                       linewidth=0, antialiased=False)\n",
    "\n",
    "ax.set_xlabel(\"p\",fontsize=15)\n",
    "ax.set_ylabel(\"$\\phi$\",fontsize=15)\n",
    "#ax.set_zlim(0, 10)\n",
    "#fig.colorbar(surf2, shrink=0.5, aspect=10)\n",
    "ax.view_init(30,20)\n",
    "\n",
    "#===============\n",
    "# Second subplot\n",
    "#===============\n",
    "# set up the axes for the second plot\n",
    "ax = fig.add_subplot(1, 2, 2, projection='3d')\n",
    "\n",
    "# plot a 3D surface like in the example mplot3d/surface3d_demo\n",
    "X = np.arange(0, 1, 0.01)\n",
    "Y = np.arange(0, 2*np.pi, 0.01)\n",
    "X, Y = np.meshgrid(X, Y)\n",
    "R = (1-X)*np.real(rho_inv[0,0]) + X*np.real(rho_inv[0,0]) + np.sqrt(X*(1-X))*np.real(np.exp(-1j*Y)*rho_inv[1,0]+np.exp(1j*Y)*rho_inv[0,1])\n",
    "Z = np.exp(-0.5*R)/QQ\n",
    "surf = ax.plot_surface(X, Y, Z, rstride=1, cstride=1, cmap=cm.coolwarm,\n",
    "                       linewidth=0, antialiased=False)\n",
    "\n",
    "ax.set_xlabel(\"p\",fontsize=15)\n",
    "ax.set_ylabel(\"$\\phi$\",fontsize=15)\n",
    "#ax.set_zlim(0, 10)\n",
    "ax.view_init(30,20)\n",
    "fig.colorbar(surf,ax=ax, shrink=0.5, aspect=10)\n",
    "\n",
    "plt.show()"
   ]
  },
  {
   "cell_type": "code",
   "execution_count": null,
   "metadata": {},
   "outputs": [],
   "source": []
  }
 ],
 "metadata": {
  "kernelspec": {
   "display_name": "Python 3",
   "language": "python",
   "name": "python3"
  },
  "language_info": {
   "codemirror_mode": {
    "name": "ipython",
    "version": 3
   },
   "file_extension": ".py",
   "mimetype": "text/x-python",
   "name": "python",
   "nbconvert_exporter": "python",
   "pygments_lexer": "ipython3",
   "version": "3.7.6"
  }
 },
 "nbformat": 4,
 "nbformat_minor": 4
}
