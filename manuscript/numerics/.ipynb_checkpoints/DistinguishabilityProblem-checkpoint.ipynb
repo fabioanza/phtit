{
 "cells": [
  {
   "cell_type": "code",
   "execution_count": 1,
   "metadata": {},
   "outputs": [],
   "source": [
    "import numpy as np\n",
    "import matplotlib.pyplot as plt\n",
    "import random\n",
    "from mpl_toolkits.mplot3d import Axes3D\n",
    "from matplotlib.colors import BoundaryNorm\n",
    "from matplotlib.ticker import MaxNLocator\n",
    "import time\n",
    "from scipy.optimize import minimize\n",
    "from scipy.optimize import Bounds\n",
    "from scipy.optimize import LinearConstraint\n",
    "from scipy.optimize import differential_evolution"
   ]
  },
  {
   "cell_type": "code",
   "execution_count": 2,
   "metadata": {},
   "outputs": [],
   "source": [
    "def qubit_grid(Mp,Mphi):\n",
    "    del_P = 1/Mp #size of the discretization along p\n",
    "    del_PHI = 2*np.pi/Mphi #size of the discretization along phi\n",
    "    P_grid = np.linspace(0,1,Mp+1) #boundary values of the grids along p - size Mp+1\n",
    "    PHI_grid = np.linspace(-np.pi,np.pi,Mphi+1) #boundary values of the grid along phi - size Mphi+1\n",
    "    P_k = P_grid[:-1] + del_P/2 #p-position associated to the squares of the grid - size Mp\n",
    "    PHI_j = PHI_grid[:-1] + del_PHI/2 #phi-position associated to the squares of the grid - size Mphi\n",
    "    P, PHI = np.meshgrid(P_grid, PHI_grid) #Grid - size (Mp+1,Mphi+1)\n",
    "    return P_k, PHI_j, P_grid, PHI_grid, P, PHI"
   ]
  },
  {
   "cell_type": "code",
   "execution_count": 20,
   "metadata": {},
   "outputs": [],
   "source": [
    "def mixed_state_z(sample_size):\n",
    "    x = 100*np.ones(sample_size)\n",
    "    y = 100*np.ones(sample_size)\n",
    "    for s in range(sample_size):\n",
    "        x[s],y[s] = np.random.choice(2), 0\n",
    "\n",
    "    return x,y "
   ]
  },
  {
   "cell_type": "code",
   "execution_count": 22,
   "metadata": {},
   "outputs": [],
   "source": [
    "def mixed_state_1(sample_size):\n",
    "    x = 100*np.ones(sample_size)\n",
    "    y = 100*np.ones(sample_size)\n",
    "    for s in range(sample_size):\n",
    "        if np.random.choice(2,p=np.array([0.25,0.75]))==0:\n",
    "            x[s], y[s] = 0.1, np.pi/3\n",
    "        else:\n",
    "            x[s], y[s] = 0.7, -np.pi/4\n",
    "    return x,y "
   ]
  },
  {
   "cell_type": "code",
   "execution_count": 23,
   "metadata": {},
   "outputs": [],
   "source": [
    "def mixed_state_x(sample_size):\n",
    "    x = 100*np.ones(sample_size)\n",
    "    y = 100*np.ones(sample_size)\n",
    "    for s in range(sample_size):\n",
    "        x[s],y[s] = 0.5, np.pi*np.random.choice(2)\n",
    "    return x,y"
   ]
  },
  {
   "cell_type": "code",
   "execution_count": 24,
   "metadata": {},
   "outputs": [],
   "source": [
    "def mixed_state_2(sample_size):\n",
    "    x = 100*np.ones(sample_size)\n",
    "    y = 100*np.ones(sample_size)\n",
    "    for s in range(sample_size):\n",
    "        if np.random.choice(2,p=np.array([0.25,0.75]))==0:\n",
    "            x[s], y[s] = 0.4, -np.pi/6\n",
    "        else:\n",
    "            x[s], y[s] = 0.6, np.pi/2\n",
    "    return x,y "
   ]
  },
  {
   "cell_type": "code",
   "execution_count": 25,
   "metadata": {},
   "outputs": [],
   "source": [
    "def colorplot_distribution(sample,Mx,My):\n",
    "    fig = plt.figure()\n",
    "    ax = fig.add_subplot(111)\n",
    "    x, y = sample\n",
    "    hist, xedges, yedges = np.histogram2d(x, y, bins=(Mx,My) , range=[[0, 1], [-np.pi, np.pi]])\n",
    "    pesi = 1/len(x)*np.ones(len(x))\n",
    "    plt.hist2d(x,y, bins=(20,20), range=[[0, 1], [-np.pi, np.pi]], weights=pesi, cmap='YlOrBr')\n",
    "    cb = plt.colorbar()\n",
    "    cb.set_label('probability')\n",
    "    ax.set_xlabel('x')\n",
    "    ax.set_ylabel('y')\n",
    "    \n",
    "    #X-axis goes from 0 to 1\n",
    "    # Major xticks every 5/M, minor xticks every 1/M\n",
    "    major_xticks = np.arange(0, 1.01, 5/Mx)\n",
    "    minor_xticks = np.arange(0, 1.01, 1/Mx)\n",
    "\n",
    "    #Y-axis goes from 0 to 2pi\n",
    "    # Major yticks every 2pi*5/M, minor xticks every 2pi*/M\n",
    "    major_yticks = np.arange(-np.pi, np.pi+0.01, 2*np.pi*5/My)\n",
    "    minor_yticks = np.arange(-np.pi, np.pi+0.01, 2*np.pi/My)\n",
    "\n",
    "    ax.set_xticks(major_xticks)\n",
    "    ax.set_xticks(minor_xticks, minor=True)\n",
    "    #x_label = [r\"$0$\", r\"$\\frac{1}{4}$\", r\"$\\frac{1}{2}$\", r\"$\\frac{3}{2}$\", r\"$1$\"]\n",
    "    #ax.set_xticklabels(x_label, fontsize=20)\n",
    "\n",
    "    ax.set_yticks(major_yticks)\n",
    "    ax.set_yticks(minor_yticks, minor=True)\n",
    "    #y_label = [ r\"$-\\pi$\",r\"$-\\frac{1}{2}\\pi$\",r\"$0$\", r\"$\\frac{1}{2}\\pi$\", r\"$\\pi$\"]\n",
    "    #ax.set_yticklabels(y_label, fontsize=20)\n",
    "\n",
    "    # Or if you want different settings for the grids:\n",
    "    ax.grid(which='minor', alpha=0.2)\n",
    "    ax.grid(which='major', alpha=1)\n",
    "    "
   ]
  },
  {
   "cell_type": "code",
   "execution_count": 26,
   "metadata": {},
   "outputs": [],
   "source": [
    "sample_z = np.array(mixed_state_z(10000))\n",
    "sample_x = np.array(mixed_state_x(10000))\n",
    "\n",
    "sample_1 = np.array(mixed_state_1(10000))\n",
    "sample_2 = np.array(mixed_state_2(10000))"
   ]
  },
  {
   "cell_type": "code",
   "execution_count": 27,
   "metadata": {},
   "outputs": [
    {
     "data": {
      "image/png": "[encoded data removed]",
      "text/plain": [
       "<Figure size 432x288 with 2 Axes>"
      ]
     },
     "metadata": {
      "needs_background": "light"
     },
     "output_type": "display_data"
    }
   ],
   "source": [
    "colorplot_distribution(sample_1,20,20)"
   ]
  },
  {
   "cell_type": "code",
   "execution_count": 28,
   "metadata": {},
   "outputs": [
    {
     "data": {
      "image/png": "[encoded data removed]",
      "text/plain": [
       "<Figure size 432x288 with 2 Axes>"
      ]
     },
     "metadata": {
      "needs_background": "light"
     },
     "output_type": "display_data"
    }
   ],
   "source": [
    "colorplot_distribution(sample_2,20,20)"
   ]
  },
  {
   "cell_type": "code",
   "execution_count": 29,
   "metadata": {},
   "outputs": [],
   "source": [
    "np.save('./Data/Distinguishability_QuantumStates_SampleX',sample_x)\n",
    "np.save('./Data/Distinguishability_QuantumStates_SampleZ',sample_z)\n",
    "\n",
    "np.save('./Data/Distinguishability_QuantumStates_Sample1',sample_1)\n",
    "np.save('./Data/Distinguishability_QuantumStates_Sample2',sample_2)"
   ]
  },
  {
   "cell_type": "markdown",
   "metadata": {},
   "source": [
    "### Samples generated. Now generate the measurement output"
   ]
  },
  {
   "cell_type": "code",
   "execution_count": 30,
   "metadata": {},
   "outputs": [],
   "source": [
    "def boundaries_check(point):\n",
    "    if point[0]>=0 and point[0]<=1 and point[1]>=-np.pi and point[1]<=np.pi:\n",
    "        return True\n",
    "    else:\n",
    "        return False"
   ]
  },
  {
   "cell_type": "code",
   "execution_count": 31,
   "metadata": {},
   "outputs": [],
   "source": [
    "def psi(x,y):\n",
    "    if boundaries_check(np.array([x,y]))==True:\n",
    "        if x==1:\n",
    "            return np.array([0,1])\n",
    "        else:\n",
    "            return np.sqrt(1-x)*np.array([1,0])+np.sqrt(x)*np.exp(1j*y)*np.array([0,1])\n",
    "    else:\n",
    "        return print('The point x = {}, y = {} is not a valid state'.format(x,y))"
   ]
  },
  {
   "cell_type": "code",
   "execution_count": 32,
   "metadata": {},
   "outputs": [],
   "source": [
    "def expectation(A,psi):\n",
    "    aux = np.matmul(A,psi)\n",
    "    return np.vdot(psi,aux)"
   ]
  },
  {
   "cell_type": "code",
   "execution_count": 33,
   "metadata": {},
   "outputs": [],
   "source": [
    "sx = np.array([[0,1],[1,0]])\n",
    "sy = np.array([[0,-1j],[1j,0]])\n",
    "sz = np.array([[1,0],[0,-1]])\n",
    "id1 = np.eye(2)"
   ]
  },
  {
   "cell_type": "code",
   "execution_count": 34,
   "metadata": {},
   "outputs": [],
   "source": [
    "def observable(vector):\n",
    "    return 0.25*(np.eye(2)+vector[0]*sx+vector[1]*sy+vector[2]*sz)"
   ]
  },
  {
   "cell_type": "code",
   "execution_count": 35,
   "metadata": {},
   "outputs": [],
   "source": [
    "def spin_proj_plus(theta,phi):\n",
    "    return 0.5*(np.eye(2)+(np.sin(theta)*np.cos(phi))*sx+(np.sin(theta)*np.sin(phi))*sy+(np.cos(theta))*sz)\n",
    "    \n",
    "def spin_proj_minus(theta,phi):\n",
    "    return 0.5*(np.eye(2)-(np.sin(theta)*np.cos(phi))*sx-(np.sin(theta)*np.sin(phi))*sy-(np.cos(theta))*sz)\n",
    "\n",
    "def spin_vector(theta,phi):\n",
    "    return np.sin(theta)*np.cos(phi), np.sin(theta)*np.sin(phi), np.cos(theta)"
   ]
  },
  {
   "cell_type": "code",
   "execution_count": 36,
   "metadata": {},
   "outputs": [],
   "source": [
    "vec_povm = []\n",
    "vec_povm.append(1/np.sqrt(3)*np.array([1,1,1]))\n",
    "vec_povm.append(1/np.sqrt(3)*np.array([1,-1,-1]))\n",
    "vec_povm.append(1/np.sqrt(3)*np.array([-1,1,-1]))\n",
    "vec_povm.append(1/np.sqrt(3)*np.array([-1,-1,1]))"
   ]
  },
  {
   "cell_type": "code",
   "execution_count": 37,
   "metadata": {},
   "outputs": [],
   "source": [
    "SICPOVM = []\n",
    "for k in vec_povm:\n",
    "    SICPOVM.append(observable(k))"
   ]
  },
  {
   "cell_type": "code",
   "execution_count": 38,
   "metadata": {},
   "outputs": [],
   "source": [
    "def SPIN_POVM(Nx,Ny):\n",
    "    P_k, PHI_j, P_grid, PHI_grid, P, PHI = qubit_grid(Nx,Ny+1)\n",
    "    NN = 0\n",
    "    while np.sum(2*np.arccos(P_grid)<np.pi/2)<Nx+1:\n",
    "            NN = NN+1\n",
    "            P_k, PHI_j, P_grid, PHI_grid, P, PHI = qubit_grid(Nx+NN,Ny)\n",
    "    \n",
    "    theta = 2*np.arccos(P_k)[2*np.arccos(P_k)<np.pi/2]\n",
    "    phi = PHI_j\n",
    "    OUT = np.zeros((Nx,Ny,2,2,2),dtype=complex)\n",
    "    for k in range(Nx):\n",
    "        for j in range(Ny):\n",
    "            OUT[k,j,0,:,:] = 1/(Nx*Ny)*spin_proj_plus(theta[k],phi[j])\n",
    "            OUT[k,j,1,:,:] = 1/(Nx*Ny)*spin_proj_minus(theta[k],phi[j])\n",
    "    return OUT"
   ]
  },
  {
   "cell_type": "code",
   "execution_count": 39,
   "metadata": {},
   "outputs": [],
   "source": [
    "def sicpovm_prob(psi):\n",
    "    PP = []\n",
    "    for k in SICPOVM:\n",
    "        PP.append(expectation(k,psi))\n",
    "    return np.abs(PP)"
   ]
  },
  {
   "cell_type": "code",
   "execution_count": 40,
   "metadata": {},
   "outputs": [],
   "source": [
    "def spin_povm_prob(Nx,Ny,psi):\n",
    "    SPIN = SPIN_POVM(Nx,Ny)\n",
    "    PP = []\n",
    "    for k in range(Nx):\n",
    "        for j in range(Ny):\n",
    "            PP.append(expectation(SPIN[k,j,0],psi))\n",
    "            PP.append(expectation(SPIN[k,j,1],psi))\n",
    "    return np.real(PP)"
   ]
  },
  {
   "cell_type": "code",
   "execution_count": 41,
   "metadata": {},
   "outputs": [],
   "source": [
    "def outcome_dataset_sicpovm(sample):\n",
    "    size = sample.shape[1]\n",
    "    outcome = 100*np.ones(size)\n",
    "    for k in range(size):\n",
    "        x = sample[0,k]\n",
    "        y = sample[1,k]\n",
    "        outcome[k] = np.random.choice(4,1,p=sicpovm_prob(psi(x,y)))[0]\n",
    "    return outcome"
   ]
  },
  {
   "cell_type": "code",
   "execution_count": 42,
   "metadata": {},
   "outputs": [],
   "source": [
    "def outcome_dataset_spinpovm(sample,Nx,Ny):\n",
    "    size = sample.shape[1]\n",
    "    outcome = 100*np.ones(size)\n",
    "    for k in range(size):\n",
    "        x = sample[0,k]\n",
    "        y = sample[1,k]\n",
    "        outcome[k] = int(np.random.choice(Nx*Ny*2,1,p=spin_povm_prob(Nx,Ny,psi(x,y)))[0])\n",
    "    return outcome"
   ]
  },
  {
   "cell_type": "code",
   "execution_count": 43,
   "metadata": {},
   "outputs": [],
   "source": [
    "dataset_sic_x = outcome_dataset_sicpovm(sample_x)\n",
    "dataset_sic_z = outcome_dataset_sicpovm(sample_z)\n",
    "\n",
    "dataset_sic_1 = outcome_dataset_sicpovm(sample_1)\n",
    "dataset_sic_2 = outcome_dataset_sicpovm(sample_2)"
   ]
  },
  {
   "cell_type": "code",
   "execution_count": 44,
   "metadata": {},
   "outputs": [],
   "source": [
    "dataset_spin_x = outcome_dataset_spinpovm(sample_x,5,5)\n",
    "dataset_spin_z = outcome_dataset_spinpovm(sample_z,5,5)\n",
    "\n",
    "dataset_spin_1 = outcome_dataset_spinpovm(sample_x,5,5)\n",
    "dataset_spin_2 = outcome_dataset_spinpovm(sample_z,5,5)"
   ]
  },
  {
   "cell_type": "code",
   "execution_count": 45,
   "metadata": {},
   "outputs": [
    {
     "data": {
      "image/png": "[encoded data removed]",
      "text/plain": [
       "<Figure size 432x288 with 1 Axes>"
      ]
     },
     "metadata": {
      "needs_background": "light"
     },
     "output_type": "display_data"
    }
   ],
   "source": [
    "n, bins, patches = plt.hist(dataset_spin_1, 100, facecolor='green', alpha=0.75)\n",
    "plt.xlabel('Outcomes')\n",
    "plt.ylabel('Counts')\n",
    "#plt.axis([0,1,2,3])\n",
    "plt.grid(True)"
   ]
  },
  {
   "cell_type": "code",
   "execution_count": 46,
   "metadata": {},
   "outputs": [
    {
     "data": {
      "image/png": "[encoded data removed]",
      "text/plain": [
       "<Figure size 432x288 with 1 Axes>"
      ]
     },
     "metadata": {
      "needs_background": "light"
     },
     "output_type": "display_data"
    }
   ],
   "source": [
    "n, bins, patches = plt.hist(dataset_spin_2, 100, facecolor='green', alpha=0.75)\n",
    "plt.xlabel('Outcomes')\n",
    "plt.ylabel('Counts')\n",
    "#plt.axis([0,1,2,3])\n",
    "plt.grid(True)"
   ]
  },
  {
   "cell_type": "code",
   "execution_count": 47,
   "metadata": {},
   "outputs": [],
   "source": [
    "np.save('./Data/Distinguishability_SICPOVM_Outcome_SampleX',dataset_sic_x)\n",
    "np.save('./Data/Distinguishability_SICPOVM_Outcome_SampleZ',dataset_sic_z)\n",
    "\n",
    "np.save('./Data/Distinguishability_SICPOVM_Outcome_Sample1',dataset_sic_1)\n",
    "np.save('./Data/Distinguishability_SICPOVM_Outcome_Sample2',dataset_sic_2)\n",
    "\n",
    "np.save('./Data/Distinguishability_SPINPOVM_Outcome_SampleX',dataset_spin_x)\n",
    "np.save('./Data/Distinguishability_SPINPOVM_Outcome_SampleZ',dataset_spin_z)\n",
    "\n",
    "np.save('./Data/Distinguishability_SPINPOVM_Outcome_Sample1',dataset_spin_1)\n",
    "np.save('./Data/Distinguishability_SPINPOVM_Outcome_Sample2',dataset_spin_2)"
   ]
  },
  {
   "cell_type": "code",
   "execution_count": 48,
   "metadata": {},
   "outputs": [],
   "source": [
    "def sicpovm_effects(x,y):\n",
    "    PP = []\n",
    "    for k in SICPOVM:\n",
    "        PP.append(expectation(k,psi(x,y)))\n",
    "    return np.abs(PP)"
   ]
  },
  {
   "cell_type": "code",
   "execution_count": 49,
   "metadata": {},
   "outputs": [],
   "source": [
    "def sicpovm_effects2(i,x,y):\n",
    "    return np.abs(expectation(SICPOVM[i],psi(x,y)))"
   ]
  },
  {
   "cell_type": "code",
   "execution_count": 50,
   "metadata": {},
   "outputs": [],
   "source": [
    "def spinpovm_effects(Nx,Ny,h,k,pm,x,y):\n",
    "    SPIN = SPIN_POVM(Nx,Ny)\n",
    "    return np.abs(expectation(SPIN[h,k,pm],psi(x,y)))"
   ]
  },
  {
   "cell_type": "code",
   "execution_count": 51,
   "metadata": {},
   "outputs": [],
   "source": [
    "def e0(x,y):\n",
    "    return sicpovm_effects2(0,x,y)\n",
    "def e1(x,y):\n",
    "    return sicpovm_effects2(1,x,y)\n",
    "def e2(x,y):\n",
    "    return sicpovm_effects2(2,x,y)\n",
    "def e3(x,y):\n",
    "    return sicpovm_effects2(3,x,y)"
   ]
  },
  {
   "cell_type": "code",
   "execution_count": 52,
   "metadata": {},
   "outputs": [],
   "source": [
    "def grid_effects(Mx,My):\n",
    "    P_k, PHI_j, P_grid, PHI_grid, P, PHI = qubit_grid(Mx,My)\n",
    "    E0, E1, E2, E3 = 100*np.ones((Mx,My)), 100*np.ones((Mx,My)), 100*np.ones((Mx,My)), 100*np.ones((Mx,My))\n",
    "    for k in range(Mx):\n",
    "        for j in range(My):\n",
    "            E0[k,j], E1[k,j], E2[k,j], E3[k,j] = e0(P_k[k],PHI_j[j]), e1(P_k[k],PHI_j[j]), e2(P_k[k],PHI_j[j]), e3(P_k[k],PHI_j[j])\n",
    "    return [E0,E1,E2,E3]"
   ]
  },
  {
   "cell_type": "code",
   "execution_count": 53,
   "metadata": {},
   "outputs": [],
   "source": [
    "def discrete_loglikelihood(q_hk,EFF,counting_data,Mx,My):\n",
    "    N_tot = np.sum(counting_data)\n",
    "    q_hk=q_hk.flatten()\n",
    "    if any(q_hk<0)==True:\n",
    "        print('q_hk = {}'.format(q_hk))\n",
    "    l0, l1, l2, l3 = counting_data[0]/N_tot*np.log(np.sum(q_hk*EFF[0].flatten())), counting_data[1]/N_tot*np.log(np.sum(q_hk*EFF[1].flatten())), counting_data[2]/N_tot*np.log(np.sum(q_hk*EFF[2].flatten())), counting_data[3]/N_tot*np.log(np.sum(q_hk*EFF[3].flatten()))\n",
    "    return -(l0+l1+l2+l3)"
   ]
  },
  {
   "cell_type": "code",
   "execution_count": 54,
   "metadata": {},
   "outputs": [],
   "source": [
    "def derivative(q_hk,EFF,counting_data,Mx,My):\n",
    "    N_tot = np.sum(counting_data)\n",
    "    q_hk=q_hk.flatten()\n",
    "    l0, l1, l2, l3 = counting_data[0]/N_tot*(EFF[0].flatten()/np.sum(q_hk*EFF[0].flatten())), counting_data[1]/N_tot*(EFF[1].flatten()/np.sum(q_hk*EFF[1].flatten())), counting_data[2]/N_tot*(EFF[2].flatten()/np.sum(q_hk*EFF[2].flatten())), counting_data[3]/N_tot*(EFF[3].flatten()/np.sum(q_hk*EFF[3].flatten()))\n",
    "    return -(l0+l1+l2+l3)"
   ]
  },
  {
   "cell_type": "code",
   "execution_count": 55,
   "metadata": {},
   "outputs": [],
   "source": [
    "def derivative_2(q_hk,EFF,counting_data,Mx,My):\n",
    "    N_tot = np.sum(counting_data)\n",
    "    q_hk=q_hk.flatten()\n",
    "    EFF[0], EFF[1], EFF[2], EFF[3] = EFF[0].flatten(), EFF[1].flatten(), EFF[2].flatten(), EFF[3].flatten()\n",
    "    h0, h1, h2, h3 = (counting_data[0]/N_tot)*(np.outer(EFF[0],EFF[0]))/(np.sum(q_hk*EFF[0])), (counting_data[1]/N_tot)*(np.outer(EFF[1],EFF[1]))/(np.sum(q_hk*EFF[1])), (counting_data[2]/N_tot)*(np.outer(EFF[2],EFF[2]))/(np.sum(q_hk*EFF[2])), (counting_data[3]/N_tot)*(np.outer(EFF[3],EFF[3]))/(np.sum(q_hk*EFF[3])) \n",
    "    \n",
    "    return h0+h1+h2+h3"
   ]
  },
  {
   "cell_type": "code",
   "execution_count": 56,
   "metadata": {},
   "outputs": [],
   "source": [
    "def function(q_hk):\n",
    "    return discrete_loglikelihood(q_hk,grid_effects(10,10),Counting_DiracDelta,10,10)"
   ]
  },
  {
   "cell_type": "code",
   "execution_count": 57,
   "metadata": {},
   "outputs": [],
   "source": [
    "def jacobian(q_hk):\n",
    "    return derivative(q_hk,grid_effects(10,10),Counting_DiracDelta,10,10)"
   ]
  },
  {
   "cell_type": "code",
   "execution_count": 58,
   "metadata": {},
   "outputs": [],
   "source": [
    "def hessian(q_hk):\n",
    "    return derivative_2(q_hk,grid_effects(10,10),Count)"
   ]
  },
  {
   "cell_type": "code",
   "execution_count": 63,
   "metadata": {},
   "outputs": [],
   "source": [
    "def maximum_likelihood_script(dataset_path,max_size_dataset,Mx,My):\n",
    "    Dataset = np.load(dataset_path)\n",
    "    counting_data = [(Dataset[0:max_size_dataset]==j).sum() for j in range(int(max(Dataset))+1)]\n",
    "    \n",
    "    \n",
    "    #Build the constraints\n",
    "    P_min = []\n",
    "    P_max = []\n",
    "    for k in range(Mx*My):\n",
    "        P_min.append(0)\n",
    "        P_max.append(1)\n",
    "    linear = P_max\n",
    "    bounds = Bounds(P_min,P_max,keep_feasible=True)\n",
    "    linear_constraint = LinearConstraint(linear,1,1,keep_feasible=True)\n",
    "    \n",
    "    #Random Initial conditions\n",
    "    #x0 = np.random.rand(Mx*My)\n",
    "    #x0 = x0/np.sum(x0)\n",
    "    #print(x0)\n",
    "    x0 = np.ones(Mx*My)/(Mx*My)\n",
    "    #x0 = np.zeros(Mx*My)\n",
    "    #x0[int(Mx*My/2)]=0.25\n",
    "    #x0[int(Mx*My/4)]=0.25\n",
    "    #x0[int(Mx*My/10)]=0.5\n",
    "    \n",
    "    #Define the function\n",
    "    def function(q_hk):\n",
    "        return discrete_loglikelihood(q_hk,grid_effects(Mx,My),counting_data,Mx,My)\n",
    "    def jacobian(q_hk):\n",
    "        return derivative(q_hk,grid_effects(Mx,My),counting_data,Mx,My)\n",
    "    def hessian(q_hk):\n",
    "        return derivative_2(q_hk,grid_effects(Mx,My),counting_data,Mx,My)\n",
    "    \n",
    "    res = minimize(function, x0, method='trust-constr', bounds=bounds, constraints=linear_constraint)\n",
    "    return res"
   ]
  },
  {
   "cell_type": "code",
   "execution_count": 60,
   "metadata": {},
   "outputs": [],
   "source": [
    "def plot_distribution_comparison(P_grid,PHI_grid,Dist1,Dist2,size=(14,7),colmap='YlOrBr',title1='Qubit Distribution 1',title2='Qubit Distribution 2',labelx = 'p', labely = '$\\phi$',save='N'):\n",
    "    levels1 = MaxNLocator(nbins=25).tick_values(Dist1.min(),Dist1.max())\n",
    "    levels2 = MaxNLocator(nbins=25).tick_values(Dist2.min(),Dist2.max())\n",
    "    # pick the desired colormap, sensible levels, and define a normalization\n",
    "    # instance which takes data values and translates those into levels.\n",
    "    cmap = plt.get_cmap(colmap)\n",
    "    norm1 = BoundaryNorm(levels1, ncolors=cmap.N, clip=True)\n",
    "    norm2 = BoundaryNorm(levels2, ncolors=cmap.N, clip=True)\n",
    "\n",
    "    fig, (ax0, ax1) = plt.subplots(ncols=2, figsize=size)\n",
    "    #X-axis goes from 0 to 1\n",
    "    # Major xticks every 0.2, minor xticks every 0.05\n",
    "    major_xticks = np.arange(0, 1.01, 5/20)\n",
    "    minor_xticks = np.arange(0, 1.01, 1/20)\n",
    "\n",
    "    #Y-axis goes from 0 to 2pi\n",
    "    # Major yticks every 2pi*5/M, minor xticks every 2pi*/M\n",
    "    major_yticks = np.arange(-np.pi, np.pi+0.01, 2*np.pi*5/20)\n",
    "    minor_yticks = np.arange(-np.pi, np.pi+0.01, 2*np.pi/20)\n",
    "\n",
    "    ax0.set_xticks(major_xticks)\n",
    "    ax0.set_xticks(minor_xticks, minor=True)\n",
    "    ax0.set_xlabel(labelx,fontsize=30)\n",
    "    ax0.set_yticks(major_yticks)\n",
    "    ax0.set_yticks(minor_yticks, minor=True)\n",
    "    ax0.set_ylabel(labely,fontsize=30)\n",
    "    \n",
    "    ax1.set_xticks(major_xticks)\n",
    "    ax1.set_xticks(minor_xticks, minor=True)\n",
    "    ax1.set_xlabel(labelx,fontsize=30)\n",
    "    ax1.set_yticks(major_yticks)\n",
    "    ax1.set_yticks(minor_yticks, minor=True)\n",
    "    ax1.set_ylabel(labely,fontsize=30)\n",
    "\n",
    "\n",
    "    # Or if you want different settings for the grids:\n",
    "\n",
    "    im1 = ax0.pcolormesh(P_grid, PHI_grid, np.transpose(Dist1), cmap=cmap, norm=norm1)\n",
    "    fig.colorbar(im1, ax=ax0)\n",
    "    ax0.set_title(title1,fontsize=20)\n",
    "    ax0.grid(True,which='minor', axis='both',alpha=0.2)\n",
    "    ax0.grid(which='major', alpha=1)\n",
    "    \n",
    "    im2 = ax1.pcolormesh(P_grid, PHI_grid, np.transpose(Dist2), cmap=cmap, norm=norm2)\n",
    "    fig.colorbar(im2, ax=ax1)\n",
    "    ax1.set_title(title2,fontsize=20)\n",
    "    ax1.grid(True,which='minor', axis='both',alpha=0.2)\n",
    "    ax1.grid(which='major', alpha=1)\n",
    "    \n",
    "    fig.tight_layout()\n",
    "    \n",
    "    if save=='Y':\n",
    "        plt.savefig('./Plots/MaximumLikelihoodEstimation_DiracDelta.png')\n",
    "    "
   ]
  },
  {
   "cell_type": "code",
   "execution_count": null,
   "metadata": {},
   "outputs": [],
   "source": [
    "start=time.time()\n",
    "Mx, My, Max_size = 20,20, 3000\n",
    "output_X = maximum_likelihood_script('./Data/Distinguishability_SICPOVM_Outcome_Sample1.npy',Max_size,Mx,My)\n",
    "mle_dist_X = output_X.x\n",
    "mle_dist_X = mle_dist_X.reshape(Mx,My)\n",
    "end = time.time()\n",
    "print('Done X. Elapsed time = {}'.format(end-start))\n",
    "start=time.time()\n",
    "output_Z = maximum_likelihood_script('./Data/Distinguishability_SICPOVM_Outcome_Sample2.npy',Max_size,Mx,My)\n",
    "mle_dist_Z = output_Z.x\n",
    "mle_dist_Z = mle_dist_Z.reshape(Mx,My)\n",
    "end=time.time()\n",
    "print('Done Z. Elapsed time = {}'.format(end-start))"
   ]
  },
  {
   "cell_type": "code",
   "execution_count": null,
   "metadata": {},
   "outputs": [],
   "source": [
    "P_k, PHI_j, P_grid, PHI_grid, P, PHI = qubit_grid(Mx,My)\n",
    "plot_distribution_comparison(P_grid,PHI_grid,mle_dist_X,mle_dist_Z,title1='Estimate X',title2='Estimate Z',labelx='x',labely='y',save='N')"
   ]
  },
  {
   "cell_type": "markdown",
   "metadata": {},
   "source": [
    "# Global optimization"
   ]
  },
  {
   "cell_type": "code",
   "execution_count": null,
   "metadata": {},
   "outputs": [],
   "source": [
    "def global_maximum_likelihood_script(dataset_path,max_size_dataset,Mx,My):\n",
    "    Dataset = np.load(dataset_path)\n",
    "    counting_data = [(Dataset[0:max_size_dataset]==j).sum() for j in range(int(max(Dataset))+1)]\n",
    "    \n",
    "    \n",
    "    #Build the constraints\n",
    "    P_min = []\n",
    "    P_max = []\n",
    "    for k in range(Mx*My):\n",
    "        P_min.append(0)\n",
    "        P_max.append(1)\n",
    "    linear = P_max\n",
    "    bounds = Bounds(P_min,P_max)\n",
    "    linear_constraint = LinearConstraint(linear,1,1)\n",
    "    \n",
    "\n",
    "    \n",
    "    #Define the function\n",
    "    def function(q_hk):\n",
    "        return discrete_loglikelihood(q_hk,grid_effects(Mx,My),counting_data,Mx,My)\n",
    "    def jacobian(q_hk):\n",
    "        return derivative(q_hk,grid_effects(Mx,My),counting_data,Mx,My)\n",
    "    def hessian(q_hk):\n",
    "        return derivative_2(q_hk,grid_effects(Mx,My),counting_data,Mx,My)\n",
    "    \n",
    "    res = differential_evolution(function, bounds=bounds, constraints=linear_constraint, updating='deferred',workers=3)\n",
    "    return res"
   ]
  },
  {
   "cell_type": "code",
   "execution_count": null,
   "metadata": {},
   "outputs": [],
   "source": [
    "start=time.time()\n",
    "Mx, My, Max_size = 5,5, 500\n",
    "output_X = global_maximum_likelihood_script('./Data/Distinguishability_SICPOVM_Outcome_SampleX.npy',Max_size,Mx,My)\n",
    "mle_dist_X = output_X.x\n",
    "mle_dist_X = mle_dist_X.reshape(Mx,My)\n",
    "end = time.time()\n",
    "print('Done X. Elapsed time = {}'.format(end-start))\n",
    "start=time.time()\n",
    "output_Z = global_maximum_likelihood_script('./Data/Distinguishability_SICPOVM_Outcome_SampleZ.npy',Max_size,Mx,My)\n",
    "mle_dist_Z = output_Z.x\n",
    "mle_dist_Z = mle_dist_Z.reshape(Mx,My)\n",
    "end=time.time()\n",
    "print('Done Z. Elapsed time = {}'.format(end-start))aa"
   ]
  },
  {
   "cell_type": "code",
   "execution_count": null,
   "metadata": {},
   "outputs": [],
   "source": [
    "P_k, PHI_j, P_grid, PHI_grid, P, PHI = qubit_grid(Mx,My)\n",
    "plot_distribution_comparison(P_grid,PHI_grid,mle_dist_X,mle_dist_Z,title1='Estimate X',title2='Estimate Z',labelx='x',labely='y',save='N')"
   ]
  },
  {
   "cell_type": "markdown",
   "metadata": {},
   "source": [
    "# Mixed states trick"
   ]
  },
  {
   "cell_type": "markdown",
   "metadata": {},
   "source": [
    "In standard quantum mechanics two density matrices with the same barycenter are considered as equal. As a result, different ensemble with density matrices which have the same barycenter can not be distinguished. Here we show that using the geometric formalism, with it notion of geometric quantum state, it is indeed possible to do it. Here is the setup we have in mind.\n",
    "\n",
    "## Case 1 = Alice\n",
    "\n",
    "Alice has two bags of identical qubits. In the first bag there are qubits in state  $\\left\\vert 0 \\right\\rangle $, while in the second bag there are qubits in state $ \\left\\vert 1 \\right\\rangle$. She flips a biased coin with $p_{\\mathrm{H}} = \\lambda$ and if she gets head she pulls a state from the first bag. If the result is tail she pulls a state from the second bag. The density matrix which describes the result of this experiment is \n",
    "\n",
    "$$\\rho_A = \\lambda \\left\\vert 0\\right\\rangle \\left\\langle 0\\right\\vert + (1-\\lambda)\\left\\vert 1\\right\\rangle \\left\\langle 1\\right\\vert$$\n",
    "\n",
    "## Case 2 = Bob\n",
    "\n",
    "Bob is in a situation which is very similar to Alice. He has two bags of qubits and a coin. He filps a coin, together with Alice, and depending on the outcome he pulls a state from one bag or the other. However, there are some differences. First, Bob's coin is fair: $p_H = \\frac{1}{2}$. Second, the states in Bob's bag are different. In one bag there are states $\\left\\vert \\psi_0\\right\\rangle = \\sqrt{\\lambda} \\left\\vert 0\\right\\rangle + \\sqrt{1-\\lambda}e^{i\\phi_0} \\left\\vert 1\\right\\rangle$. In the second bag there are states $\\left\\vert \\psi_1\\right\\rangle = \\sqrt{\\lambda} \\left\\vert 0\\right\\rangle - \\sqrt{1-\\lambda}e^{i\\phi_0}\\left\\vert 1\\right\\rangle$. The density matrix which describes the results of Bob's experiment is given by\n",
    "$$\\rho_B = \\frac{1}{2} \\left\\vert \\psi_0\\right\\rangle \\left\\langle \\psi_0\\right\\vert + \\frac{1}{2}\\left\\vert \\psi_1\\right\\rangle \\left\\langle \\psi_1\\right\\vert$$\n",
    "\n",
    "Now, it is not too hard to see that $\\rho_A = \\rho_B$, irrespectively of what the value of $\\phi_0$ is. Thus, the experiments of Bob and Alice produce results which are statistically indistinguishable. This is because, according to standard quantum mechanics, a density matrix contains all the information on an experiment we can ever have access to. However, they are clearly in two different cases. \n",
    "\n",
    "### Discussion\n",
    "\n",
    "In particular, we notice that in writing down Bob's states we have traded a classical source of uncertainty for a quantum one. Indeed, in Alice's case there is a $\\textit{classical bias}$ given by $p_1-p_0 = 2\\lambda-1$ while in Bob's case the parameter $\\lambda$ regulates a $\\textit{quantm bias}$ between the two states as $\\left\\langle \\psi_1 \\vert \\psi_0\\right\\rangle = 2\\lambda-1$.\n",
    "\n",
    "In the following we aim at showing that by using the notion of geometric quantum state, it is indeed possible to discriminate between these two different cases. Something that is implicitly impossible if one uses the standard notion of quantum state in terms of the density matrix. We do so by applying the maximum-likelihood protocol. This is most efficient when we specify the statistical model. In particular, owing it to the fact that we are aware of the way the states are generated, here we perform maximum likelihood estimation restricted to two-points mixed states. While this is clearly not the most general case, it is enough to cover all possible cases of the experimental protocol used by Alice and Bob. To perform maximum likelihood estimation we assume that every time Alice and Bob pull a state, a SIC-POVM measurement is performed on the state and the result is recorded. We assume to run this experiment $N$ times.\n",
    "\n",
    "The choice to use a SIC-POVM is made to clarify why and how the notion of geometric quantum state contains more information than the notion of density matrix. Indeed, using a SIC-POVM we are guaranteed that we are using the minimum amount of measurements necessary to have access to the full density matrix."
   ]
  },
  {
   "cell_type": "markdown",
   "metadata": {},
   "source": [
    "### Spin_POVM Data analysis"
   ]
  },
  {
   "cell_type": "code",
   "execution_count": null,
   "metadata": {},
   "outputs": [],
   "source": [
    "def spin_loglikelihood_mixed(alpha,x0,y0,x1,y1,Nx,Ny,counting_data):\n",
    "    N_tot = np.sum(counting_data)\n",
    "    shaped_counting_data = np.array(counting_data).reshape(Nx,Ny,2)\n",
    "    ll = 0\n",
    "    for k in range(Nx):\n",
    "        for j in range(Ny):\n",
    "            for pm in range(1):\n",
    "                ll = ll -(shaped_counting_data[k,j,pm]/N_tot)*np.log(alpha*spinpovm_effects(Nx,Ny,k,j,pm,x0,y0)+(1-alpha)*spinpovm_effects(Nx,Ny,k,j,pm,x1,y1))\n",
    "    \n",
    "    return ll            "
   ]
  },
  {
   "cell_type": "code",
   "execution_count": null,
   "metadata": {},
   "outputs": [],
   "source": [
    "Dataset_SPIN_X = np.load('./Data/Distinguishability_SPINPOVM_Outcome_SampleX.npy')\n",
    "counting_data_spin_X = [(Dataset_SPIN_X[0:5000]==j).sum() for j in range(int(max(Dataset_SPIN_X))+1)]"
   ]
  },
  {
   "cell_type": "code",
   "execution_count": null,
   "metadata": {},
   "outputs": [],
   "source": [
    "spin_loglikelihood_mixed(0.5,0,np.pi,0.5,0,4,4,counting_data_spin_X)"
   ]
  },
  {
   "cell_type": "code",
   "execution_count": null,
   "metadata": {},
   "outputs": [],
   "source": []
  },
  {
   "cell_type": "code",
   "execution_count": null,
   "metadata": {},
   "outputs": [],
   "source": [
    "def spin_distinguishability_script(dataset_path,Nx,Ny,max_size_dataset):\n",
    "    Dataset = np.load(dataset_path)\n",
    "    counting_data = [(Dataset[0:max_size_dataset]==j).sum() for j in range(int(max(Dataset))+1)]\n",
    "    \n",
    "    def function(x):\n",
    "        return spin_loglikelihood_mixed(x[0],x[1],x[2],x[3],x[4],Nx,Ny,counting_data)\n",
    "    \n",
    "    #Build the constraints\n",
    "    bounds = Bounds((0,0,-np.pi,0,-np.pi),(1,1,np.pi,1,np.pi))\n",
    "    x0 = np.array([0.5,0.5,0,0.5,np.pi/2])\n",
    "    res = differential_evolution(function, bounds=bounds)\n",
    "    \n",
    "    return res"
   ]
  },
  {
   "cell_type": "code",
   "execution_count": null,
   "metadata": {},
   "outputs": [],
   "source": [
    "start = time.time()\n",
    "output_spin_X = spin_distinguishability_script('./Data/Distinguishability_SPINPOVM_Outcome_SampleX.npy',4,4,9000)\n",
    "end = time.time()\n",
    "print('Done X in {} time'.format(end-start))\n",
    "output_spin_Z = spin_distinguishability_script('./Data/Distinguishability_SPINPOVM_Outcome_SampleZ.npy',4,4,9000)"
   ]
  },
  {
   "cell_type": "code",
   "execution_count": null,
   "metadata": {},
   "outputs": [],
   "source": [
    "output_spin_X"
   ]
  },
  {
   "cell_type": "code",
   "execution_count": null,
   "metadata": {},
   "outputs": [],
   "source": [
    "#Given a pure state and a discretization of the grid, find the square the state belongs to\n",
    "def discrete_pphi(x0,y0,Mp,Mphi):\n",
    "    P_k, PHI_j, P_vec, PHI_vec, P, PHI = qubit_grid(Mp,Mphi)\n",
    "    k = np.argmin(abs(P_k[:]-x0))\n",
    "    j = np.argmin(abs(PHI_j[:]-y0))\n",
    "    return k,j"
   ]
  },
  {
   "cell_type": "code",
   "execution_count": null,
   "metadata": {},
   "outputs": [],
   "source": [
    "def original_diracdelta(x0,y0,Mp,Mphi):\n",
    "    dist = np.zeros((Mp,Mphi))\n",
    "    k, j = discrete_pphi(x0,y0,Mp,Mphi)\n",
    "    dist[k,j] = 1\n",
    "    return dist"
   ]
  },
  {
   "cell_type": "code",
   "execution_count": null,
   "metadata": {},
   "outputs": [],
   "source": [
    "Mx,My=20,20\n",
    "P_k, PHI_j, P_grid, PHI_grid, P, PHI = qubit_grid(Mx,My)\n",
    "psi1_X = original_diracdelta(output_spin_X.x[1],output_spin_X.x[2],Mx,My)\n",
    "psi2_X = original_diracdelta(output_spin_X.x[3],output_spin_X.x[4],Mx,My)\n",
    "rho_X = (output_spin_X.x[0])*psi1_X + (1-output_spin_X.x[0])*psi2_X\n",
    "\n",
    "psi1_Z = original_diracdelta(output_spin_Z.x[1],output_spin_Z.x[2],Mx,My)\n",
    "psi2_Z = original_diracdelta(output_spin_Z.x[3],output_spin_Z.x[4],Mx,My)\n",
    "rho_Z = (output_spin_Z.x[0])*psi1_Z + (1-output_spin_Z.x[0])*psi2_Z"
   ]
  },
  {
   "cell_type": "code",
   "execution_count": null,
   "metadata": {},
   "outputs": [],
   "source": [
    "plot_distribution_comparison(P_grid,PHI_grid,rho_X,rho_Z,title1='Estimate X',title2='Estimate Z',labelx='x',labely='y',save='N')"
   ]
  },
  {
   "cell_type": "code",
   "execution_count": null,
   "metadata": {},
   "outputs": [],
   "source": []
  },
  {
   "cell_type": "code",
   "execution_count": null,
   "metadata": {},
   "outputs": [],
   "source": []
  },
  {
   "cell_type": "code",
   "execution_count": null,
   "metadata": {},
   "outputs": [],
   "source": []
  },
  {
   "cell_type": "code",
   "execution_count": null,
   "metadata": {},
   "outputs": [],
   "source": [
    "def sic_loglikelihood_mixed(alpha,x0,y0,x1,y1,counting_data):\n",
    "    N_tot = np.sum(counting_data)\n",
    "    l0, l1, l2, l3 = counting_data[0]/N_tot*np.log(alpha*e0(x0,y0)+(1-alpha)*e0(x1,y1)), counting_data[1]/N_tot*np.log(alpha*e1(x0,y0)+(1-alpha)*e1(x1,y1)), counting_data[2]/N_tot*np.log(alpha*e2(x0,y0)+(1-alpha)*e2(x1,y1)), counting_data[3]/N_tot*np.log(alpha*e3(x0,y0)+(1-alpha)*e3(x1,y1))\n",
    "    return -(l0+l1+l2+l3)"
   ]
  },
  {
   "cell_type": "code",
   "execution_count": null,
   "metadata": {},
   "outputs": [],
   "source": [
    "Dataset = np.load('./Data/Distinguishability_SICPOVM_Outcome_SampleX.npy')\n",
    "counting_data = [(Dataset[0:300]==j).sum() for j in range(int(max(Dataset))+1)]\n",
    "    \n",
    "loglikelihood_mixed(0.3,0.8,np.pi/3,0.2,np.pi/2,counting_data)"
   ]
  },
  {
   "cell_type": "code",
   "execution_count": null,
   "metadata": {},
   "outputs": [],
   "source": [
    "def sic_distinguishability_script(dataset_path,max_size_dataset):\n",
    "    Dataset = np.load(dataset_path)\n",
    "    counting_data = [(Dataset[0:max_size_dataset]==j).sum() for j in range(int(max(Dataset))+1)]\n",
    "    print(counting_data)\n",
    "    \n",
    "    def function(x):\n",
    "        return loglikelihood_mixed(x[0],x[1],x[2],x[3],x[4],counting_data)\n",
    "    \n",
    "    #Build the constraints\n",
    "    bounds = Bounds((0,0,-np.pi,0,-np.pi),(1,1,np.pi,1,np.pi),keep_feasible=True)\n",
    "    x0 = np.array([0.5,0.5,0,0.5,np.pi/2])\n",
    "    res = minimize(function, x0, method='trust-constr', bounds=bounds)\n",
    "    \n",
    "    return res"
   ]
  },
  {
   "cell_type": "code",
   "execution_count": null,
   "metadata": {},
   "outputs": [],
   "source": [
    "output_X = distinguishability_script('./Data/Distinguishability_SICPOVM_Outcome_SampleX.npy',1000)\n",
    "output_Z = distinguishability_script('./Data/Distinguishability_SICPOVM_Outcome_SampleZ.npy',1000)"
   ]
  },
  {
   "cell_type": "code",
   "execution_count": null,
   "metadata": {},
   "outputs": [],
   "source": [
    "Mx,My=20,20\n",
    "P_k, PHI_j, P_grid, PHI_grid, P, PHI = qubit_grid(Mx,My)\n",
    "psi1_X = original_diracdelta(output_X.x[1],output_X.x[2],Mx,My)\n",
    "psi2_X = original_diracdelta(output_X.x[3],output_X.x[4],Mx,My)\n",
    "rho_X = (output_X.x[0])*psi1_X + (1-output_X.x[0])*psi2_X\n",
    "\n",
    "psi1_Z = original_diracdelta(output_Z.x[1],output_Z.x[2],Mx,My)\n",
    "psi2_Z = original_diracdelta(output_Z.x[3],output_Z.x[4],Mx,My)\n",
    "rho_Z = (output_Z.x[0])*psi1_Z + (1-output_Z.x[0])*psi2_Z"
   ]
  },
  {
   "cell_type": "code",
   "execution_count": null,
   "metadata": {},
   "outputs": [],
   "source": []
  },
  {
   "cell_type": "code",
   "execution_count": null,
   "metadata": {},
   "outputs": [],
   "source": [
    "    MAT = np.zeros((detail+1,Mx,My,Mx,My))\n",
    "    for n in range(detail+1):\n",
    "        alpha = n/detail\n",
    "        for h0 in range(Mx):\n",
    "            for k0 in range(My):\n",
    "                start = time.time()\n",
    "                print('Working on h0 = {}, k0 = {}'.format(h0,k0))\n",
    "                for h1 in range(Mx):\n",
    "                    for k1 in range(My):\n",
    "                        MAT[n,h0,k0,h1,k1]=function(alpha,h0,k0,h1,k1)\n",
    "                end = time.time()\n",
    "                print('Time to finish loop on h1,k1 = {}'.format(end-start))\n",
    "        print('Alpha = {}'.format(alpha))"
   ]
  }
 ],
 "metadata": {
  "kernelspec": {
   "display_name": "Python 3",
   "language": "python",
   "name": "python3"
  },
  "language_info": {
   "codemirror_mode": {
    "name": "ipython",
    "version": 3
   },
   "file_extension": ".py",
   "mimetype": "text/x-python",
   "name": "python",
   "nbconvert_exporter": "python",
   "pygments_lexer": "ipython3",
   "version": "3.7.6"
  }
 },
 "nbformat": 4,
 "nbformat_minor": 4
}
