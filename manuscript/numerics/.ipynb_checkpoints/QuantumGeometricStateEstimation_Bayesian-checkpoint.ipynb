{
 "cells": [
  {
   "cell_type": "code",
   "execution_count": 136,
   "metadata": {},
   "outputs": [],
   "source": [
    "import numpy as np\n",
    "import matplotlib.pyplot as plt\n",
    "from matplotlib.colors import BoundaryNorm\n",
    "from matplotlib.ticker import MaxNLocator\n",
    "from mpl_toolkits.mplot3d import Axes3D\n",
    "import time"
   ]
  },
  {
   "cell_type": "markdown",
   "metadata": {},
   "source": [
    "# First we setup the grid for the coarse-graining"
   ]
  },
  {
   "cell_type": "code",
   "execution_count": 2,
   "metadata": {},
   "outputs": [],
   "source": [
    "#p <---> x and phi <---> y\n",
    "def qubit_grid(Mp,Mphi):\n",
    "    del_P = 1/Mp #size of the discretization along p\n",
    "    del_PHI = 2*np.pi/Mphi #size of the discretization along phi\n",
    "    P_grid = np.linspace(0,1,Mp+1) #boundary values of the grids along p - size Mp+1\n",
    "    PHI_grid = np.linspace(-np.pi,np.pi,Mphi+1) #boundary values of the grid along phi - size Mphi+1\n",
    "    P_k = P_grid[:-1] + del_P/2 #p-position associated to the squares of the grid - size Mp\n",
    "    PHI_j = PHI_grid[:-1] + del_PHI/2 #phi-position associated to the squares of the grid - size Mphi\n",
    "    P, PHI = np.meshgrid(P_k, PHI_j) #Grid - size (Mp+1,Mphi+1)\n",
    "    return P_k, PHI_j, P_grid, PHI_grid, P, PHI"
   ]
  },
  {
   "cell_type": "code",
   "execution_count": 3,
   "metadata": {},
   "outputs": [],
   "source": [
    "def plot_grid(Mp,Mphi,size=(5,5)):\n",
    "    P_k, PHI_j, P_vec, PHI_vec, P, PHI = qubit_grid(Mp,Mphi)\n",
    "    \n",
    "    fig = plt.figure(figsize=size)\n",
    "    ax = fig.add_subplot(1, 1, 1)\n",
    "\n",
    "    #X-axis goes from 0 to 1\n",
    "    # Major xticks every 5/M, minor xticks every 1/M\n",
    "    major_xticks = np.arange(0, 1.01, 5/Mp)\n",
    "    minor_xticks = np.arange(0, 1.01, 1/Mp)\n",
    "\n",
    "    #Y-axis goes from 0 to 2pi\n",
    "    # Major yticks every 2pi*5/M, minor xticks every 2pi*/M\n",
    "    major_yticks = np.arange(-np.pi, np.pi+0.01, 2*np.pi*5/Mphi)\n",
    "    minor_yticks = np.arange(-np.pi, np.pi+0.01, 2*np.pi/Mphi)\n",
    "\n",
    "    ax.set_xticks(major_xticks)\n",
    "    ax.set_xticks(minor_xticks, minor=True)\n",
    "    ax.set_xlabel('p',fontsize=30)\n",
    "    #x_label = [r\"$0$\", r\"$\\frac{1}{4}$\", r\"$\\frac{1}{2}$\", r\"$\\frac{3}{2}$\", r\"$1$\"]\n",
    "    #ax.set_xticklabels(x_label, fontsize=20)\n",
    "\n",
    "    ax.set_yticks(major_yticks)\n",
    "    ax.set_yticks(minor_yticks, minor=True)\n",
    "    ax.set_ylabel('$\\phi$',fontsize=30)\n",
    "    #y_label = [ r\"$-\\pi$\",r\"$-\\frac{1}{2}\\pi$\",r\"$0$\", r\"$\\frac{1}{2}\\pi$\", r\"$\\pi$\"]\n",
    "    #ax.set_yticklabels(y_label, fontsize=20)\n",
    "\n",
    "    # Or if you want different settings for the grids:\n",
    "    ax.grid(which='minor', alpha=0.2)\n",
    "    ax.grid(which='major', alpha=1)\n",
    "\n",
    "    ax.scatter(P,PHI,s=2)\n",
    "    fig.tight_layout()\n",
    "    plt.show()"
   ]
  },
  {
   "cell_type": "code",
   "execution_count": 4,
   "metadata": {},
   "outputs": [
    {
     "data": {
      "image/png": "[encoded data removed]",
      "text/plain": [
       "<Figure size 360x360 with 1 Axes>"
      ]
     },
     "metadata": {
      "needs_background": "light"
     },
     "output_type": "display_data"
    }
   ],
   "source": [
    "plot_grid(20,20)"
   ]
  },
  {
   "cell_type": "code",
   "execution_count": 5,
   "metadata": {},
   "outputs": [],
   "source": [
    "P_k, PHI_j, P_grid, PHI_grid, P, PHI = qubit_grid(20,20)"
   ]
  },
  {
   "cell_type": "markdown",
   "metadata": {},
   "source": [
    "### Buid the necessary functions"
   ]
  },
  {
   "cell_type": "code",
   "execution_count": 6,
   "metadata": {},
   "outputs": [],
   "source": [
    "def boundaries_check(point):\n",
    "    if point[0]>=0 and point[0]<=1 and point[1]>=-np.pi and point[1]<=np.pi:\n",
    "        return True\n",
    "    else:\n",
    "        return False"
   ]
  },
  {
   "cell_type": "code",
   "execution_count": 7,
   "metadata": {},
   "outputs": [],
   "source": [
    "def psi(x,y):\n",
    "    if boundaries_check(np.array([x,y]))==True:\n",
    "        if x==1:\n",
    "            return np.array([0,1])\n",
    "        else:\n",
    "            return np.sqrt(1-x)*np.array([1,0])+np.sqrt(x)*np.exp(1j*y)*np.array([0,1])\n",
    "    else:\n",
    "        return print('The point x = {}, y = {} is not a valid state'.format(x,y))"
   ]
  },
  {
   "cell_type": "code",
   "execution_count": 8,
   "metadata": {},
   "outputs": [],
   "source": [
    "def expectation(A,psi):\n",
    "    aux = np.matmul(A,psi)\n",
    "    return np.vdot(psi,aux)"
   ]
  },
  {
   "cell_type": "code",
   "execution_count": 9,
   "metadata": {},
   "outputs": [],
   "source": [
    "sx = np.array([[0,1],[1,0]])\n",
    "sy = np.array([[0,-1j],[1j,0]])\n",
    "sz = np.array([[1,0],[0,-1]])\n",
    "id1 = np.eye(2)"
   ]
  },
  {
   "cell_type": "code",
   "execution_count": 10,
   "metadata": {},
   "outputs": [],
   "source": [
    "def observable(vector):\n",
    "    return 0.25*(np.eye(2)+vector[0]*sx+vector[1]*sy+vector[2]*sz)"
   ]
  },
  {
   "cell_type": "code",
   "execution_count": 11,
   "metadata": {},
   "outputs": [],
   "source": [
    "vec_povm = []\n",
    "vec_povm.append(1/np.sqrt(3)*np.array([1,1,1]))\n",
    "vec_povm.append(1/np.sqrt(3)*np.array([1,-1,-1]))\n",
    "vec_povm.append(1/np.sqrt(3)*np.array([-1,1,-1]))\n",
    "vec_povm.append(1/np.sqrt(3)*np.array([-1,-1,1]))"
   ]
  },
  {
   "cell_type": "code",
   "execution_count": 12,
   "metadata": {},
   "outputs": [],
   "source": [
    "SICPOVM = []\n",
    "for k in vec_povm:\n",
    "    SICPOVM.append(observable(k))"
   ]
  },
  {
   "cell_type": "code",
   "execution_count": 13,
   "metadata": {},
   "outputs": [],
   "source": [
    "def sicpovm_effects(x,y):\n",
    "    PP = []\n",
    "    for k in SICPOVM:\n",
    "        PP.append(expectation(k,psi(x,y)))\n",
    "    return np.abs(PP)"
   ]
  },
  {
   "cell_type": "code",
   "execution_count": 14,
   "metadata": {},
   "outputs": [],
   "source": [
    "def auxiliary(x,y,count):\n",
    "    aux = 1\n",
    "    for n in range(len(count)):\n",
    "        aux = aux*((sicpovm_effects(x,y)[n])**count[n])\n",
    "    return aux"
   ]
  },
  {
   "cell_type": "code",
   "execution_count": 15,
   "metadata": {},
   "outputs": [],
   "source": [
    "def bayesian_estimate(x,y,count,Mp,Mphi):\n",
    "    P_k, PHI_j, P_grid, PHI_grid, P, PHI = qubit_grid(Mp,Mphi)\n",
    "    normalization = 0\n",
    "    for k in range(Mp):\n",
    "        for j in range(Mphi):\n",
    "            normalization = normalization + auxiliary(P_k[k],PHI_j[j],count)\n",
    "    return auxiliary(x,y,count)/normalization"
   ]
  },
  {
   "cell_type": "code",
   "execution_count": 16,
   "metadata": {},
   "outputs": [],
   "source": [
    "def bayesian_estimate_distribution(count,Mp,Mphi):\n",
    "    P_k, PHI_j, P_grid, PHI_grid, P, PHI = qubit_grid(Mp,Mphi)\n",
    "    dist = np.zeros((Mp,Mphi))\n",
    "    for k in range(Mp):\n",
    "        for j in range(Mphi):\n",
    "            dist[k,j]=bayesian_estimate(P_k[k],PHI_j[j],count,Mp,Mphi)\n",
    "    return dist"
   ]
  },
  {
   "cell_type": "code",
   "execution_count": 19,
   "metadata": {},
   "outputs": [],
   "source": [
    "def colorplot_distribution(P_grid,PHI_grid,Dist,size=(5,5),colmap='YlOrBr',title='Qubit Distribution'):\n",
    "    \n",
    "    levels = MaxNLocator(nbins=25).tick_values(Dist.min(),Dist.max())\n",
    "\n",
    "    # pick the desired colormap, sensible levels, and define a normalization\n",
    "    # instance which takes data values and translates those into levels.\n",
    "    cmap = plt.get_cmap(colmap)\n",
    "    norm = BoundaryNorm(levels, ncolors=cmap.N, clip=True)\n",
    "\n",
    "    fig, ax0 = plt.subplots(figsize=size)\n",
    "    #X-axis goes from 0 to 1\n",
    "    # Major xticks every 0.2, minor xticks every 0.05\n",
    "    major_xticks = np.arange(0, 1.01, 5/20)\n",
    "    minor_xticks = np.arange(0, 1.01, 1/20)\n",
    "\n",
    "    #Y-axis goes from 0 to 2pi\n",
    "    # Major yticks every 2pi*5/M, minor xticks every 2pi*/M\n",
    "    major_yticks = np.arange(-np.pi, np.pi+0.01, 2*np.pi*5/20)\n",
    "    minor_yticks = np.arange(-np.pi, np.pi+0.01, 2*np.pi/20)\n",
    "\n",
    "    ax0.set_xticks(major_xticks)\n",
    "    ax0.set_xticks(minor_xticks, minor=True)\n",
    "    ax0.set_xlabel('p',fontsize=30)\n",
    "    #x_label = [r\"$0$\", r\"$\\frac{1}{4}$\", r\"$\\frac{1}{2}$\", r\"$\\frac{3}{2}$\", r\"$1$\"]\n",
    "    #ax0.set_xticklabels(x_label, fontsize=20)\n",
    "\n",
    "    ax0.set_yticks(major_yticks)\n",
    "    ax0.set_yticks(minor_yticks, minor=True)\n",
    "    ax0.set_ylabel('$\\phi$',fontsize=30)\n",
    "    #y_label = [ r\"$-\\pi$\",r\"$-\\frac{1}{2}\\pi$\",r\"$0$\", r\"$\\frac{1}{2}\\pi$\", r\"$\\pi$\"]\n",
    "    #ax0.set_yticklabels(y_label, fontsize=20)\n",
    "\n",
    "    # Or if you want different settings for the grids:\n",
    "\n",
    "    im = ax0.pcolormesh(P_grid, PHI_grid, np.transpose(Dist), cmap=cmap, norm=norm)\n",
    "    fig.colorbar(im, ax=ax0)\n",
    "    ax0.set_title(title,fontsize=20)\n",
    "    ax0.grid(True,which='minor', axis='both',alpha=0.2)\n",
    "    ax0.grid(which='major', alpha=1)"
   ]
  },
  {
   "cell_type": "code",
   "execution_count": 155,
   "metadata": {},
   "outputs": [],
   "source": [
    "def plot_distribution_comparison(P_grid,PHI_grid,Dist1,Dist2,size=(10,10),colmap='YlOrBr',title1='Qubit Distribution 1',title2='Qubit Distribution 2',labelx = 'p', labely = '$\\phi$',save='N'):\n",
    "    levels1 = MaxNLocator(nbins=25).tick_values(Dist1.min(),Dist1.max())\n",
    "    levels2 = MaxNLocator(nbins=25).tick_values(Dist2.min(),Dist2.max())\n",
    "    # pick the desired colormap, sensible levels, and define a normalization\n",
    "    # instance which takes data values and translates those into levels.\n",
    "    cmap = plt.get_cmap(colmap)\n",
    "    norm1 = BoundaryNorm(levels1, ncolors=cmap.N, clip=True)\n",
    "    norm2 = BoundaryNorm(levels2, ncolors=cmap.N, clip=True)\n",
    "\n",
    "    fig, (ax0, ax1) = plt.subplots(ncols=2, figsize=(14,7))\n",
    "    #X-axis goes from 0 to 1\n",
    "    # Major xticks every 0.2, minor xticks every 0.05\n",
    "    major_xticks = np.arange(0, 1.01, 5/20)\n",
    "    minor_xticks = np.arange(0, 1.01, 1/20)\n",
    "\n",
    "    #Y-axis goes from 0 to 2pi\n",
    "    # Major yticks every 2pi*5/M, minor xticks every 2pi*/M\n",
    "    major_yticks = np.arange(-np.pi, np.pi+0.01, 2*np.pi*5/20)\n",
    "    minor_yticks = np.arange(-np.pi, np.pi+0.01, 2*np.pi/20)\n",
    "\n",
    "    ax0.set_xticks(major_xticks)\n",
    "    ax0.set_xticks(minor_xticks, minor=True)\n",
    "    ax0.set_xlabel(labelx,fontsize=30)\n",
    "    ax0.set_yticks(major_yticks)\n",
    "    ax0.set_yticks(minor_yticks, minor=True)\n",
    "    ax0.set_ylabel(labely,fontsize=30)\n",
    "    \n",
    "    ax1.set_xticks(major_xticks)\n",
    "    ax1.set_xticks(minor_xticks, minor=True)\n",
    "    ax1.set_xlabel(labelx,fontsize=30)\n",
    "    ax1.set_yticks(major_yticks)\n",
    "    ax1.set_yticks(minor_yticks, minor=True)\n",
    "    ax1.set_ylabel(labely,fontsize=30)\n",
    "\n",
    "\n",
    "    # Or if you want different settings for the grids:\n",
    "\n",
    "    im1 = ax0.pcolormesh(P_grid, PHI_grid, np.transpose(Dist1), cmap=cmap, norm=norm1)\n",
    "    fig.colorbar(im1, ax=ax0)\n",
    "    ax0.set_title(title1,fontsize=20)\n",
    "    ax0.grid(True,which='minor', axis='both',alpha=0.2)\n",
    "    ax0.grid(which='major', alpha=1)\n",
    "    \n",
    "    im2 = ax1.pcolormesh(P_grid, PHI_grid, np.transpose(Dist2), cmap=cmap, norm=norm2)\n",
    "    fig.colorbar(im2, ax=ax1)\n",
    "    ax1.set_title(title2,fontsize=20)\n",
    "    ax1.grid(True,which='minor', axis='both',alpha=0.2)\n",
    "    ax1.grid(which='major', alpha=1)\n",
    "    \n",
    "    fig.tight_layout()\n",
    "    \n",
    "    if save=='Y':\n",
    "        plt.savefig('./Plots/BayesianEstimation_DiracDelta.png')\n",
    "    "
   ]
  },
  {
   "cell_type": "code",
   "execution_count": 132,
   "metadata": {},
   "outputs": [],
   "source": [
    "def total_variation_distance(P,Q):\n",
    "    return 0.5*np.sum(np.abs(P-Q))"
   ]
  },
  {
   "cell_type": "code",
   "execution_count": 76,
   "metadata": {},
   "outputs": [],
   "source": [
    "def cartesian_prod(P,PHI):\n",
    "    aux = np.zeros((len(P),len(PHI),2))\n",
    "    for k in range(len(P)):\n",
    "        for j in range(len(PHI)):\n",
    "            aux[k,j,:] = P[k],PHI[j]\n",
    "    return aux"
   ]
  },
  {
   "cell_type": "code",
   "execution_count": 93,
   "metadata": {},
   "outputs": [],
   "source": [
    "def average(Dist,P_val,PHI_val):\n",
    "    Pos = cartesian_prod(P_val,PHI_val)\n",
    "    return np.array([np.sum(Dist*Pos[:,:,0]),np.sum(Dist*Pos[:,:,1])])"
   ]
  },
  {
   "cell_type": "code",
   "execution_count": 118,
   "metadata": {},
   "outputs": [],
   "source": [
    "def standard_deviation(Dist,P_val,PHI_val):\n",
    "    Var = (cartesian_prod(P_val,PHI_val)-average(Dist,P_val,PHI_val))**2\n",
    "    return np.sqrt(np.array([np.sum(Dist*Var[:,:,0]),np.sum(Dist*Var[:,:,1])]))"
   ]
  },
  {
   "cell_type": "markdown",
   "metadata": {},
   "source": [
    "### Build the original distributions"
   ]
  },
  {
   "cell_type": "code",
   "execution_count": 125,
   "metadata": {},
   "outputs": [],
   "source": [
    "#Given a pure state and a discretization of the grid, find the square the state belongs to\n",
    "def discrete_pphi(x0,y0,Mp,Mphi):\n",
    "    P_k, PHI_j, P_vec, PHI_vec, P, PHI = qubit_grid(Mp,Mphi)\n",
    "    k = np.argmin(abs(P_k[:]-x0))\n",
    "    j = np.argmin(abs(PHI_j[:]-y0))\n",
    "    return k,j"
   ]
  },
  {
   "cell_type": "code",
   "execution_count": 126,
   "metadata": {},
   "outputs": [],
   "source": [
    "def original_diracdelta(x0,y0,Mp,Mphi):\n",
    "    dist = np.zeros((Mp,Mphi))\n",
    "    k, j = discrete_pphi(x0,y0,Mp,Mphi)\n",
    "    dist[k,j] = 1\n",
    "    return dist"
   ]
  },
  {
   "cell_type": "code",
   "execution_count": 42,
   "metadata": {},
   "outputs": [
    {
     "name": "stdout",
     "output_type": "stream",
     "text": [
      "[223, 144, 126, 7]\n"
     ]
    }
   ],
   "source": [
    "Dataset_Diracdelta = np.load('./Data/Dataset_DiracDelta_SICPOVM.npy')\n",
    "Counting_DiracDelta = [(Dataset_Diracdelta[0:500]==j).sum() for j in range(int(max(Dataset_Diracdelta))+1)]"
   ]
  },
  {
   "cell_type": "code",
   "execution_count": 20,
   "metadata": {},
   "outputs": [],
   "source": [
    "BayesianEstimate_DiracDelta = bayesian_estimate_distribution(Counting_DiracDelta,20,20)"
   ]
  },
  {
   "cell_type": "code",
   "execution_count": 134,
   "metadata": {},
   "outputs": [
    {
     "data": {
      "text/plain": [
       "0.36703102598697473"
      ]
     },
     "execution_count": 134,
     "metadata": {},
     "output_type": "execute_result"
    }
   ],
   "source": [
    "total_variation_distance(BayesianEstimate_DiracDelta,original_diracdelta(0.61,np.pi/4,20,20))"
   ]
  },
  {
   "cell_type": "code",
   "execution_count": 158,
   "metadata": {},
   "outputs": [
    {
     "data": {
      "image/png": "[encoded data removed]",
      "text/plain": [
       "<Figure size 1008x504 with 4 Axes>"
      ]
     },
     "metadata": {
      "needs_background": "light"
     },
     "output_type": "display_data"
    }
   ],
   "source": [
    "plot_distribution_comparison(P_grid,PHI_grid,original_diracdelta(0.61,np.pi/4,20,20),BayesianEstimate_DiracDelta,size=(15,10),title1='Original',title2='Bayesian Estimation, N={}'.format(500),labelx='x',labely='y',save='Y')"
   ]
  },
  {
   "cell_type": "code",
   "execution_count": 139,
   "metadata": {},
   "outputs": [
    {
     "name": "stdout",
     "output_type": "stream",
     "text": [
      "Working on k = 1\n",
      "Elapsed time = 45.10008788108826\n",
      "Working on k = 2\n",
      "Elapsed time = 45.196398973464966\n",
      "Working on k = 3\n",
      "Elapsed time = 45.078344106674194\n",
      "Working on k = 4\n",
      "Elapsed time = 45.270500898361206\n",
      "Working on k = 5\n",
      "Elapsed time = 45.44884705543518\n",
      "Working on k = 6\n",
      "Elapsed time = 45.68273115158081\n",
      "Working on k = 7\n",
      "Elapsed time = 45.58164310455322\n",
      "Working on k = 8\n",
      "Elapsed time = 45.51019787788391\n",
      "Working on k = 9\n",
      "Elapsed time = 45.97088670730591\n",
      "Working on k = 10\n",
      "Elapsed time = 45.79619002342224\n",
      "Working on k = 11\n",
      "Elapsed time = 45.81346011161804\n",
      "Working on k = 12\n",
      "Elapsed time = 46.22096085548401\n",
      "Working on k = 13\n"
     ]
    },
    {
     "name": "stderr",
     "output_type": "stream",
     "text": [
      "/Users/fanza/opt/anaconda3/lib/python3.7/site-packages/ipykernel_launcher.py:7: RuntimeWarning: invalid value encountered in double_scalars\n",
      "  import sys\n"
     ]
    },
    {
     "name": "stdout",
     "output_type": "stream",
     "text": [
      "Elapsed time = 45.87534499168396\n",
      "Working on k = 14\n",
      "Elapsed time = 54.87655711174011\n",
      "Working on k = 15\n",
      "Elapsed time = 1407.4684329032898\n",
      "Working on k = 16\n"
     ]
    },
    {
     "ename": "KeyboardInterrupt",
     "evalue": "",
     "output_type": "error",
     "traceback": [
      "\u001b[0;31m---------------------------------------------------------------------------\u001b[0m",
      "\u001b[0;31mKeyboardInterrupt\u001b[0m                         Traceback (most recent call last)",
      "\u001b[0;32m<ipython-input-139-5df47fbcf44a>\u001b[0m in \u001b[0;36m<module>\u001b[0;34m\u001b[0m\n\u001b[1;32m      6\u001b[0m     \u001b[0msample_size\u001b[0m \u001b[0;34m=\u001b[0m \u001b[0mk\u001b[0m\u001b[0;34m*\u001b[0m\u001b[0;36m50\u001b[0m\u001b[0;34m\u001b[0m\u001b[0;34m\u001b[0m\u001b[0m\n\u001b[1;32m      7\u001b[0m     \u001b[0mCounting_DiracDelta\u001b[0m \u001b[0;34m=\u001b[0m \u001b[0;34m[\u001b[0m\u001b[0;34m(\u001b[0m\u001b[0mDataset_Diracdelta\u001b[0m\u001b[0;34m[\u001b[0m\u001b[0;36m0\u001b[0m\u001b[0;34m:\u001b[0m\u001b[0msample_size\u001b[0m\u001b[0;34m]\u001b[0m\u001b[0;34m==\u001b[0m\u001b[0mj\u001b[0m\u001b[0;34m)\u001b[0m\u001b[0;34m.\u001b[0m\u001b[0msum\u001b[0m\u001b[0;34m(\u001b[0m\u001b[0;34m)\u001b[0m \u001b[0;32mfor\u001b[0m \u001b[0mj\u001b[0m \u001b[0;32min\u001b[0m \u001b[0mrange\u001b[0m\u001b[0;34m(\u001b[0m\u001b[0mint\u001b[0m\u001b[0;34m(\u001b[0m\u001b[0mmax\u001b[0m\u001b[0;34m(\u001b[0m\u001b[0mDataset_Diracdelta\u001b[0m\u001b[0;34m)\u001b[0m\u001b[0;34m)\u001b[0m\u001b[0;34m+\u001b[0m\u001b[0;36m1\u001b[0m\u001b[0;34m)\u001b[0m\u001b[0;34m]\u001b[0m\u001b[0;34m\u001b[0m\u001b[0;34m\u001b[0m\u001b[0m\n\u001b[0;32m----> 8\u001b[0;31m     \u001b[0mEstimate\u001b[0m \u001b[0;34m=\u001b[0m \u001b[0mbayesian_estimate_distribution\u001b[0m\u001b[0;34m(\u001b[0m\u001b[0mCounting_DiracDelta\u001b[0m\u001b[0;34m,\u001b[0m\u001b[0;36m20\u001b[0m\u001b[0;34m,\u001b[0m\u001b[0;36m20\u001b[0m\u001b[0;34m)\u001b[0m\u001b[0;34m\u001b[0m\u001b[0;34m\u001b[0m\u001b[0m\n\u001b[0m\u001b[1;32m      9\u001b[0m     \u001b[0mperformance_be\u001b[0m\u001b[0;34m[\u001b[0m\u001b[0mk\u001b[0m\u001b[0;34m-\u001b[0m\u001b[0;36m1\u001b[0m\u001b[0;34m]\u001b[0m\u001b[0;34m=\u001b[0m\u001b[0mtotal_variation_distance\u001b[0m\u001b[0;34m(\u001b[0m\u001b[0mEstimate\u001b[0m\u001b[0;34m,\u001b[0m\u001b[0moriginal_diracdelta\u001b[0m\u001b[0;34m(\u001b[0m\u001b[0;36m0.61\u001b[0m\u001b[0;34m,\u001b[0m\u001b[0mnp\u001b[0m\u001b[0;34m.\u001b[0m\u001b[0mpi\u001b[0m\u001b[0;34m/\u001b[0m\u001b[0;36m4\u001b[0m\u001b[0;34m,\u001b[0m\u001b[0;36m20\u001b[0m\u001b[0;34m,\u001b[0m\u001b[0;36m20\u001b[0m\u001b[0;34m)\u001b[0m\u001b[0;34m)\u001b[0m\u001b[0;34m\u001b[0m\u001b[0;34m\u001b[0m\u001b[0m\n\u001b[1;32m     10\u001b[0m     \u001b[0mend\u001b[0m \u001b[0;34m=\u001b[0m \u001b[0mtime\u001b[0m\u001b[0;34m.\u001b[0m\u001b[0mtime\u001b[0m\u001b[0;34m(\u001b[0m\u001b[0;34m)\u001b[0m\u001b[0;34m\u001b[0m\u001b[0;34m\u001b[0m\u001b[0m\n",
      "\u001b[0;32m<ipython-input-16-865d80282eda>\u001b[0m in \u001b[0;36mbayesian_estimate_distribution\u001b[0;34m(count, Mp, Mphi)\u001b[0m\n\u001b[1;32m      4\u001b[0m     \u001b[0;32mfor\u001b[0m \u001b[0mk\u001b[0m \u001b[0;32min\u001b[0m \u001b[0mrange\u001b[0m\u001b[0;34m(\u001b[0m\u001b[0mMp\u001b[0m\u001b[0;34m)\u001b[0m\u001b[0;34m:\u001b[0m\u001b[0;34m\u001b[0m\u001b[0;34m\u001b[0m\u001b[0m\n\u001b[1;32m      5\u001b[0m         \u001b[0;32mfor\u001b[0m \u001b[0mj\u001b[0m \u001b[0;32min\u001b[0m \u001b[0mrange\u001b[0m\u001b[0;34m(\u001b[0m\u001b[0mMphi\u001b[0m\u001b[0;34m)\u001b[0m\u001b[0;34m:\u001b[0m\u001b[0;34m\u001b[0m\u001b[0;34m\u001b[0m\u001b[0m\n\u001b[0;32m----> 6\u001b[0;31m             \u001b[0mdist\u001b[0m\u001b[0;34m[\u001b[0m\u001b[0mk\u001b[0m\u001b[0;34m,\u001b[0m\u001b[0mj\u001b[0m\u001b[0;34m]\u001b[0m\u001b[0;34m=\u001b[0m\u001b[0mbayesian_estimate\u001b[0m\u001b[0;34m(\u001b[0m\u001b[0mP_k\u001b[0m\u001b[0;34m[\u001b[0m\u001b[0mk\u001b[0m\u001b[0;34m]\u001b[0m\u001b[0;34m,\u001b[0m\u001b[0mPHI_j\u001b[0m\u001b[0;34m[\u001b[0m\u001b[0mj\u001b[0m\u001b[0;34m]\u001b[0m\u001b[0;34m,\u001b[0m\u001b[0mcount\u001b[0m\u001b[0;34m,\u001b[0m\u001b[0mMp\u001b[0m\u001b[0;34m,\u001b[0m\u001b[0mMphi\u001b[0m\u001b[0;34m)\u001b[0m\u001b[0;34m\u001b[0m\u001b[0;34m\u001b[0m\u001b[0m\n\u001b[0m\u001b[1;32m      7\u001b[0m     \u001b[0;32mreturn\u001b[0m \u001b[0mdist\u001b[0m\u001b[0;34m\u001b[0m\u001b[0;34m\u001b[0m\u001b[0m\n",
      "\u001b[0;32m<ipython-input-15-f1114bdd11d0>\u001b[0m in \u001b[0;36mbayesian_estimate\u001b[0;34m(x, y, count, Mp, Mphi)\u001b[0m\n\u001b[1;32m      4\u001b[0m     \u001b[0;32mfor\u001b[0m \u001b[0mk\u001b[0m \u001b[0;32min\u001b[0m \u001b[0mrange\u001b[0m\u001b[0;34m(\u001b[0m\u001b[0mMp\u001b[0m\u001b[0;34m)\u001b[0m\u001b[0;34m:\u001b[0m\u001b[0;34m\u001b[0m\u001b[0;34m\u001b[0m\u001b[0m\n\u001b[1;32m      5\u001b[0m         \u001b[0;32mfor\u001b[0m \u001b[0mj\u001b[0m \u001b[0;32min\u001b[0m \u001b[0mrange\u001b[0m\u001b[0;34m(\u001b[0m\u001b[0mMphi\u001b[0m\u001b[0;34m)\u001b[0m\u001b[0;34m:\u001b[0m\u001b[0;34m\u001b[0m\u001b[0;34m\u001b[0m\u001b[0m\n\u001b[0;32m----> 6\u001b[0;31m             \u001b[0mnormalization\u001b[0m \u001b[0;34m=\u001b[0m \u001b[0mnormalization\u001b[0m \u001b[0;34m+\u001b[0m \u001b[0mauxiliary\u001b[0m\u001b[0;34m(\u001b[0m\u001b[0mP_k\u001b[0m\u001b[0;34m[\u001b[0m\u001b[0mk\u001b[0m\u001b[0;34m]\u001b[0m\u001b[0;34m,\u001b[0m\u001b[0mPHI_j\u001b[0m\u001b[0;34m[\u001b[0m\u001b[0mj\u001b[0m\u001b[0;34m]\u001b[0m\u001b[0;34m,\u001b[0m\u001b[0mcount\u001b[0m\u001b[0;34m)\u001b[0m\u001b[0;34m\u001b[0m\u001b[0;34m\u001b[0m\u001b[0m\n\u001b[0m\u001b[1;32m      7\u001b[0m     \u001b[0;32mreturn\u001b[0m \u001b[0mauxiliary\u001b[0m\u001b[0;34m(\u001b[0m\u001b[0mx\u001b[0m\u001b[0;34m,\u001b[0m\u001b[0my\u001b[0m\u001b[0;34m,\u001b[0m\u001b[0mcount\u001b[0m\u001b[0;34m)\u001b[0m\u001b[0;34m/\u001b[0m\u001b[0mnormalization\u001b[0m\u001b[0;34m\u001b[0m\u001b[0;34m\u001b[0m\u001b[0m\n",
      "\u001b[0;32m<ipython-input-14-6c21fd3a2861>\u001b[0m in \u001b[0;36mauxiliary\u001b[0;34m(x, y, count)\u001b[0m\n\u001b[1;32m      2\u001b[0m     \u001b[0maux\u001b[0m \u001b[0;34m=\u001b[0m \u001b[0;36m1\u001b[0m\u001b[0;34m\u001b[0m\u001b[0;34m\u001b[0m\u001b[0m\n\u001b[1;32m      3\u001b[0m     \u001b[0;32mfor\u001b[0m \u001b[0mn\u001b[0m \u001b[0;32min\u001b[0m \u001b[0mrange\u001b[0m\u001b[0;34m(\u001b[0m\u001b[0mlen\u001b[0m\u001b[0;34m(\u001b[0m\u001b[0mcount\u001b[0m\u001b[0;34m)\u001b[0m\u001b[0;34m)\u001b[0m\u001b[0;34m:\u001b[0m\u001b[0;34m\u001b[0m\u001b[0;34m\u001b[0m\u001b[0m\n\u001b[0;32m----> 4\u001b[0;31m         \u001b[0maux\u001b[0m \u001b[0;34m=\u001b[0m \u001b[0maux\u001b[0m\u001b[0;34m*\u001b[0m\u001b[0;34m(\u001b[0m\u001b[0msicpovm_effects\u001b[0m\u001b[0;34m(\u001b[0m\u001b[0mx\u001b[0m\u001b[0;34m,\u001b[0m\u001b[0my\u001b[0m\u001b[0;34m)\u001b[0m\u001b[0;34m[\u001b[0m\u001b[0mn\u001b[0m\u001b[0;34m]\u001b[0m\u001b[0;34m)\u001b[0m\u001b[0;34m**\u001b[0m\u001b[0mcount\u001b[0m\u001b[0;34m[\u001b[0m\u001b[0mn\u001b[0m\u001b[0;34m]\u001b[0m\u001b[0;34m\u001b[0m\u001b[0;34m\u001b[0m\u001b[0m\n\u001b[0m\u001b[1;32m      5\u001b[0m     \u001b[0;32mreturn\u001b[0m \u001b[0maux\u001b[0m\u001b[0;34m\u001b[0m\u001b[0;34m\u001b[0m\u001b[0m\n",
      "\u001b[0;32m<ipython-input-13-8aa96a111d4f>\u001b[0m in \u001b[0;36msicpovm_effects\u001b[0;34m(x, y)\u001b[0m\n\u001b[1;32m      2\u001b[0m     \u001b[0mPP\u001b[0m \u001b[0;34m=\u001b[0m \u001b[0;34m[\u001b[0m\u001b[0;34m]\u001b[0m\u001b[0;34m\u001b[0m\u001b[0;34m\u001b[0m\u001b[0m\n\u001b[1;32m      3\u001b[0m     \u001b[0;32mfor\u001b[0m \u001b[0mk\u001b[0m \u001b[0;32min\u001b[0m \u001b[0mSICPOVM\u001b[0m\u001b[0;34m:\u001b[0m\u001b[0;34m\u001b[0m\u001b[0;34m\u001b[0m\u001b[0m\n\u001b[0;32m----> 4\u001b[0;31m         \u001b[0mPP\u001b[0m\u001b[0;34m.\u001b[0m\u001b[0mappend\u001b[0m\u001b[0;34m(\u001b[0m\u001b[0mexpectation\u001b[0m\u001b[0;34m(\u001b[0m\u001b[0mk\u001b[0m\u001b[0;34m,\u001b[0m\u001b[0mpsi\u001b[0m\u001b[0;34m(\u001b[0m\u001b[0mx\u001b[0m\u001b[0;34m,\u001b[0m\u001b[0my\u001b[0m\u001b[0;34m)\u001b[0m\u001b[0;34m)\u001b[0m\u001b[0;34m)\u001b[0m\u001b[0;34m\u001b[0m\u001b[0;34m\u001b[0m\u001b[0m\n\u001b[0m\u001b[1;32m      5\u001b[0m     \u001b[0;32mreturn\u001b[0m \u001b[0mnp\u001b[0m\u001b[0;34m.\u001b[0m\u001b[0mabs\u001b[0m\u001b[0;34m(\u001b[0m\u001b[0mPP\u001b[0m\u001b[0;34m)\u001b[0m\u001b[0;34m\u001b[0m\u001b[0;34m\u001b[0m\u001b[0m\n",
      "\u001b[0;32m<ipython-input-7-9174e9ec8d00>\u001b[0m in \u001b[0;36mpsi\u001b[0;34m(x, y)\u001b[0m\n\u001b[1;32m      4\u001b[0m             \u001b[0;32mreturn\u001b[0m \u001b[0mnp\u001b[0m\u001b[0;34m.\u001b[0m\u001b[0marray\u001b[0m\u001b[0;34m(\u001b[0m\u001b[0;34m[\u001b[0m\u001b[0;36m0\u001b[0m\u001b[0;34m,\u001b[0m\u001b[0;36m1\u001b[0m\u001b[0;34m]\u001b[0m\u001b[0;34m)\u001b[0m\u001b[0;34m\u001b[0m\u001b[0;34m\u001b[0m\u001b[0m\n\u001b[1;32m      5\u001b[0m         \u001b[0;32melse\u001b[0m\u001b[0;34m:\u001b[0m\u001b[0;34m\u001b[0m\u001b[0;34m\u001b[0m\u001b[0m\n\u001b[0;32m----> 6\u001b[0;31m             \u001b[0;32mreturn\u001b[0m \u001b[0mnp\u001b[0m\u001b[0;34m.\u001b[0m\u001b[0msqrt\u001b[0m\u001b[0;34m(\u001b[0m\u001b[0;36m1\u001b[0m\u001b[0;34m-\u001b[0m\u001b[0mx\u001b[0m\u001b[0;34m)\u001b[0m\u001b[0;34m*\u001b[0m\u001b[0mnp\u001b[0m\u001b[0;34m.\u001b[0m\u001b[0marray\u001b[0m\u001b[0;34m(\u001b[0m\u001b[0;34m[\u001b[0m\u001b[0;36m1\u001b[0m\u001b[0;34m,\u001b[0m\u001b[0;36m0\u001b[0m\u001b[0;34m]\u001b[0m\u001b[0;34m)\u001b[0m\u001b[0;34m+\u001b[0m\u001b[0mnp\u001b[0m\u001b[0;34m.\u001b[0m\u001b[0msqrt\u001b[0m\u001b[0;34m(\u001b[0m\u001b[0mx\u001b[0m\u001b[0;34m)\u001b[0m\u001b[0;34m*\u001b[0m\u001b[0mnp\u001b[0m\u001b[0;34m.\u001b[0m\u001b[0mexp\u001b[0m\u001b[0;34m(\u001b[0m\u001b[0;36m1j\u001b[0m\u001b[0;34m*\u001b[0m\u001b[0my\u001b[0m\u001b[0;34m)\u001b[0m\u001b[0;34m*\u001b[0m\u001b[0mnp\u001b[0m\u001b[0;34m.\u001b[0m\u001b[0marray\u001b[0m\u001b[0;34m(\u001b[0m\u001b[0;34m[\u001b[0m\u001b[0;36m0\u001b[0m\u001b[0;34m,\u001b[0m\u001b[0;36m1\u001b[0m\u001b[0;34m]\u001b[0m\u001b[0;34m)\u001b[0m\u001b[0;34m\u001b[0m\u001b[0;34m\u001b[0m\u001b[0m\n\u001b[0m\u001b[1;32m      7\u001b[0m     \u001b[0;32melse\u001b[0m\u001b[0;34m:\u001b[0m\u001b[0;34m\u001b[0m\u001b[0;34m\u001b[0m\u001b[0m\n\u001b[1;32m      8\u001b[0m         \u001b[0;32mreturn\u001b[0m \u001b[0mprint\u001b[0m\u001b[0;34m(\u001b[0m\u001b[0;34m'The point x = {}, y = {} is not a valid state'\u001b[0m\u001b[0;34m.\u001b[0m\u001b[0mformat\u001b[0m\u001b[0;34m(\u001b[0m\u001b[0mx\u001b[0m\u001b[0;34m,\u001b[0m\u001b[0my\u001b[0m\u001b[0;34m)\u001b[0m\u001b[0;34m)\u001b[0m\u001b[0;34m\u001b[0m\u001b[0;34m\u001b[0m\u001b[0m\n",
      "\u001b[0;31mKeyboardInterrupt\u001b[0m: "
     ]
    }
   ],
   "source": [
    "num = 12\n",
    "performance_be = np.zeros(num)\n",
    "for k in range(1,num+1):\n",
    "    print('Working on k = {}'.format(k))\n",
    "    start = time.time()\n",
    "    sample_size = k*50\n",
    "    Counting_DiracDelta = [(Dataset_Diracdelta[0:sample_size]==j).sum() for j in range(int(max(Dataset_Diracdelta))+1)]\n",
    "    Estimate = bayesian_estimate_distribution(Counting_DiracDelta,20,20)\n",
    "    performance_be[k-1]=total_variation_distance(Estimate,original_diracdelta(0.61,np.pi/4,20,20))\n",
    "    end = time.time()\n",
    "    print('Elapsed time = {}'.format(end-start))\n",
    "    "
   ]
  },
  {
   "cell_type": "code",
   "execution_count": 175,
   "metadata": {},
   "outputs": [
    {
     "name": "stdout",
     "output_type": "stream",
     "text": [
      "[ 50. 100. 150. 200. 250. 300. 350. 400. 450. 500. 550. 600.]\n"
     ]
    }
   ],
   "source": [
    "num_observed = np.linspace(50,600,12)\n",
    "print(nu)"
   ]
  },
  {
   "cell_type": "code",
   "execution_count": 174,
   "metadata": {},
   "outputs": [
    {
     "data": {
      "text/plain": [
       "12"
      ]
     },
     "execution_count": 174,
     "metadata": {},
     "output_type": "execute_result"
    }
   ],
   "source": [
    "len(performance_be)"
   ]
  },
  {
   "cell_type": "code",
   "execution_count": 178,
   "metadata": {},
   "outputs": [
    {
     "data": {
      "image/png": "[encoded data removed]",
      "text/plain": [
       "<Figure size 1440x720 with 1 Axes>"
      ]
     },
     "metadata": {
      "needs_background": "light"
     },
     "output_type": "display_data"
    }
   ],
   "source": [
    "fig, ax = plt.subplots(figsize=(20,10))\n",
    "ax.plot(num_observed,performance_be,'o',markersize=20,label='$TV(q_{BE},q)$')\n",
    "ax.set_xlabel('Number of measurements',fontsize=25)\n",
    "ax.set_ylabel('Total variation distance',fontsize=25)\n",
    "ax.legend(fontsize=25)\n",
    "ax.tick_params(labelsize=25)\n",
    "plt.savefig('./Plots/Performance_BE_DiracDelta')\n",
    "plt.show()"
   ]
  },
  {
   "cell_type": "code",
   "execution_count": null,
   "metadata": {},
   "outputs": [],
   "source": []
  },
  {
   "cell_type": "code",
   "execution_count": null,
   "metadata": {},
   "outputs": [],
   "source": []
  }
 ],
 "metadata": {
  "kernelspec": {
   "display_name": "Python 3",
   "language": "python",
   "name": "python3"
  },
  "language_info": {
   "codemirror_mode": {
    "name": "ipython",
    "version": 3
   },
   "file_extension": ".py",
   "mimetype": "text/x-python",
   "name": "python",
   "nbconvert_exporter": "python",
   "pygments_lexer": "ipython3",
   "version": "3.7.6"
  }
 },
 "nbformat": 4,
 "nbformat_minor": 4
}
