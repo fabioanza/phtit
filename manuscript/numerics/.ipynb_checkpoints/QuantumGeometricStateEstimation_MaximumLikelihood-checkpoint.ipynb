{
 "cells": [
  {
   "cell_type": "code",
   "execution_count": 1,
   "metadata": {},
   "outputs": [],
   "source": [
    "import numpy as np\n",
    "import matplotlib.pyplot as plt\n",
    "from matplotlib.colors import BoundaryNorm\n",
    "from matplotlib.ticker import MaxNLocator\n",
    "from mpl_toolkits.mplot3d import Axes3D\n",
    "import time\n",
    "from scipy.optimize import curve_fit\n",
    "import itertools\n",
    "from scipy import integrate\n",
    "from scipy.optimize import minimize\n",
    "from scipy.optimize import Bounds\n",
    "from scipy.optimize import LinearConstraint\n",
    "from scipy.optimize import shgo\n",
    "from scipy.optimize import differential_evolution"
   ]
  },
  {
   "cell_type": "markdown",
   "metadata": {},
   "source": [
    "# First we setup the grid for the coarse-graining"
   ]
  },
  {
   "cell_type": "code",
   "execution_count": 2,
   "metadata": {},
   "outputs": [],
   "source": [
    "#p <---> x and phi <---> y\n",
    "def qubit_grid(Mp,Mphi):\n",
    "    del_P = 1/Mp #size of the discretization along p\n",
    "    del_PHI = 2*np.pi/Mphi #size of the discretization along phi\n",
    "    P_grid = np.linspace(0,1,Mp+1) #boundary values of the grids along p - size Mp+1\n",
    "    PHI_grid = np.linspace(-np.pi,np.pi,Mphi+1) #boundary values of the grid along phi - size Mphi+1\n",
    "    P_k = P_grid[:-1] + del_P/2 #p-position associated to the squares of the grid - size Mp\n",
    "    PHI_j = PHI_grid[:-1] + del_PHI/2 #phi-position associated to the squares of the grid - size Mphi\n",
    "    P, PHI = np.meshgrid(P_k, PHI_j) #Grid - size (Mp+1,Mphi+1)\n",
    "    return P_k, PHI_j, P_grid, PHI_grid, P, PHI"
   ]
  },
  {
   "cell_type": "code",
   "execution_count": 3,
   "metadata": {},
   "outputs": [],
   "source": [
    "def plot_grid(Mp,Mphi,size=(5,5)):\n",
    "    P_k, PHI_j, P_vec, PHI_vec, P, PHI = qubit_grid(Mp,Mphi)\n",
    "    \n",
    "    fig = plt.figure(figsize=size)\n",
    "    ax = fig.add_subplot(1, 1, 1)\n",
    "\n",
    "    #X-axis goes from 0 to 1\n",
    "    # Major xticks every 5/M, minor xticks every 1/M\n",
    "    major_xticks = np.arange(0, 1.01, 5/Mp)\n",
    "    minor_xticks = np.arange(0, 1.01, 1/Mp)\n",
    "\n",
    "    #Y-axis goes from 0 to 2pi\n",
    "    # Major yticks every 2pi*5/M, minor xticks every 2pi*/M\n",
    "    major_yticks = np.arange(-np.pi, np.pi+0.01, 2*np.pi*5/Mphi)\n",
    "    minor_yticks = np.arange(-np.pi, np.pi+0.01, 2*np.pi/Mphi)\n",
    "\n",
    "    ax.set_xticks(major_xticks)\n",
    "    ax.set_xticks(minor_xticks, minor=True)\n",
    "    ax.set_xlabel('p',fontsize=30)\n",
    "    #x_label = [r\"$0$\", r\"$\\frac{1}{4}$\", r\"$\\frac{1}{2}$\", r\"$\\frac{3}{2}$\", r\"$1$\"]\n",
    "    #ax.set_xticklabels(x_label, fontsize=20)\n",
    "\n",
    "    ax.set_yticks(major_yticks)\n",
    "    ax.set_yticks(minor_yticks, minor=True)\n",
    "    ax.set_ylabel('$\\phi$',fontsize=30)\n",
    "    #y_label = [ r\"$-\\pi$\",r\"$-\\frac{1}{2}\\pi$\",r\"$0$\", r\"$\\frac{1}{2}\\pi$\", r\"$\\pi$\"]\n",
    "    #ax.set_yticklabels(y_label, fontsize=20)\n",
    "\n",
    "    # Or if you want different settings for the grids:\n",
    "    ax.grid(which='minor', alpha=0.2)\n",
    "    ax.grid(which='major', alpha=1)\n",
    "\n",
    "    ax.scatter(P,PHI,s=2)\n",
    "    fig.tight_layout()\n",
    "    plt.show()"
   ]
  },
  {
   "cell_type": "code",
   "execution_count": 4,
   "metadata": {},
   "outputs": [
    {
     "data": {
      "image/png": "[encoded data removed]",
      "text/plain": [
       "<Figure size 360x360 with 1 Axes>"
      ]
     },
     "metadata": {
      "needs_background": "light"
     },
     "output_type": "display_data"
    }
   ],
   "source": [
    "plot_grid(20,20)"
   ]
  },
  {
   "cell_type": "code",
   "execution_count": 5,
   "metadata": {},
   "outputs": [],
   "source": [
    "P_k, PHI_j, P_grid, PHI_grid, P, PHI = qubit_grid(20,20)"
   ]
  },
  {
   "cell_type": "markdown",
   "metadata": {},
   "source": [
    "### Buid the necessary functions"
   ]
  },
  {
   "cell_type": "code",
   "execution_count": 6,
   "metadata": {},
   "outputs": [],
   "source": [
    "def boundaries_check(point):\n",
    "    if point[0]>=0 and point[0]<=1 and point[1]>=-np.pi and point[1]<=np.pi:\n",
    "        return True\n",
    "    else:\n",
    "        return False"
   ]
  },
  {
   "cell_type": "code",
   "execution_count": 7,
   "metadata": {},
   "outputs": [],
   "source": [
    "def psi(x,y):\n",
    "    if boundaries_check(np.array([x,y]))==True:\n",
    "        if x==1:\n",
    "            return np.array([0,1])\n",
    "        else:\n",
    "            return np.sqrt(1-x)*np.array([1,0])+np.sqrt(x)*np.exp(1j*y)*np.array([0,1])\n",
    "    else:\n",
    "        return print('The point x = {}, y = {} is not a valid state'.format(x,y))"
   ]
  },
  {
   "cell_type": "code",
   "execution_count": 8,
   "metadata": {},
   "outputs": [],
   "source": [
    "def expectation(A,psi):\n",
    "    aux = np.matmul(A,psi)\n",
    "    return np.vdot(psi,aux)"
   ]
  },
  {
   "cell_type": "code",
   "execution_count": 9,
   "metadata": {},
   "outputs": [],
   "source": [
    "sx = np.array([[0,1],[1,0]])\n",
    "sy = np.array([[0,-1j],[1j,0]])\n",
    "sz = np.array([[1,0],[0,-1]])\n",
    "id1 = np.eye(2)"
   ]
  },
  {
   "cell_type": "code",
   "execution_count": 10,
   "metadata": {},
   "outputs": [],
   "source": [
    "def observable(vector):\n",
    "    return 0.25*(np.eye(2)+vector[0]*sx+vector[1]*sy+vector[2]*sz)"
   ]
  },
  {
   "cell_type": "code",
   "execution_count": 11,
   "metadata": {},
   "outputs": [],
   "source": [
    "vec_povm = []\n",
    "vec_povm.append(1/np.sqrt(3)*np.array([1,1,1]))\n",
    "vec_povm.append(1/np.sqrt(3)*np.array([1,-1,-1]))\n",
    "vec_povm.append(1/np.sqrt(3)*np.array([-1,1,-1]))\n",
    "vec_povm.append(1/np.sqrt(3)*np.array([-1,-1,1]))"
   ]
  },
  {
   "cell_type": "code",
   "execution_count": 12,
   "metadata": {},
   "outputs": [],
   "source": [
    "SICPOVM = []\n",
    "for k in vec_povm:\n",
    "    SICPOVM.append(observable(k))"
   ]
  },
  {
   "cell_type": "code",
   "execution_count": 13,
   "metadata": {},
   "outputs": [],
   "source": [
    "def sicpovm_effects(x,y):\n",
    "    PP = []\n",
    "    for k in SICPOVM:\n",
    "        PP.append(expectation(k,psi(x,y)))\n",
    "    return np.abs(PP)"
   ]
  },
  {
   "cell_type": "code",
   "execution_count": 14,
   "metadata": {},
   "outputs": [],
   "source": [
    "def sicpovm_effects2(i,x,y):\n",
    "    return np.abs(expectation(SICPOVM[i],psi(x,y)))"
   ]
  },
  {
   "cell_type": "code",
   "execution_count": 15,
   "metadata": {},
   "outputs": [],
   "source": [
    "def e0(x,y):\n",
    "    return sicpovm_effects2(0,x,y)\n",
    "def e1(x,y):\n",
    "    return sicpovm_effects2(1,x,y)\n",
    "def e2(x,y):\n",
    "    return sicpovm_effects2(2,x,y)\n",
    "def e3(x,y):\n",
    "    return sicpovm_effects2(3,x,y)"
   ]
  },
  {
   "cell_type": "code",
   "execution_count": 16,
   "metadata": {},
   "outputs": [],
   "source": [
    "def grid_effects(Mx,My):\n",
    "    P_k, PHI_j, P_grid, PHI_grid, P, PHI = qubit_grid(Mx,My)\n",
    "    E0, E1, E2, E3 = 100*np.ones((Mx,My)), 100*np.ones((Mx,My)), 100*np.ones((Mx,My)), 100*np.ones((Mx,My))\n",
    "    for k in range(Mx):\n",
    "        for j in range(My):\n",
    "            E0[k,j], E1[k,j], E2[k,j], E3[k,j] = e0(P_k[k],PHI_j[j]), e1(P_k[k],PHI_j[j]), e2(P_k[k],PHI_j[j]), e3(P_k[k],PHI_j[j])\n",
    "    return [E0,E1,E2,E3]"
   ]
  },
  {
   "cell_type": "code",
   "execution_count": 17,
   "metadata": {},
   "outputs": [],
   "source": [
    "def discrete_loglikelihood(q_hk,EFF,counting_data,Mx,My):\n",
    "    N_tot = np.sum(counting_data)\n",
    "    q_hk=q_hk.flatten()\n",
    "    if any(q_hk<0)==True:\n",
    "        print('q_hk = {}'.format(q_hk))\n",
    "    l0, l1, l2, l3 = counting_data[0]/N_tot*np.log(np.sum(q_hk*EFF[0].flatten())), counting_data[1]/N_tot*np.log(np.sum(q_hk*EFF[1].flatten())), counting_data[2]/N_tot*np.log(np.sum(q_hk*EFF[2].flatten())), counting_data[3]/N_tot*np.log(np.sum(q_hk*EFF[3].flatten()))\n",
    "    return -(l0+l1+l2+l3)"
   ]
  },
  {
   "cell_type": "code",
   "execution_count": 18,
   "metadata": {},
   "outputs": [],
   "source": [
    "def derivative(q_hk,EFF,counting_data,Mx,My):\n",
    "    N_tot = np.sum(counting_data)\n",
    "    q_hk=q_hk.flatten()\n",
    "    l0, l1, l2, l3 = counting_data[0]/N_tot*(EFF[0].flatten()/np.sum(q_hk*EFF[0].flatten())), counting_data[1]/N_tot*(EFF[1].flatten()/np.sum(q_hk*EFF[1].flatten())), counting_data[2]/N_tot*(EFF[2].flatten()/np.sum(q_hk*EFF[2].flatten())), counting_data[3]/N_tot*(EFF[3].flatten()/np.sum(q_hk*EFF[3].flatten()))\n",
    "    return -(l0+l1+l2+l3)"
   ]
  },
  {
   "cell_type": "code",
   "execution_count": 19,
   "metadata": {},
   "outputs": [],
   "source": [
    "def derivative_2(q_hk,EFF,counting_data,Mx,My):\n",
    "    N_tot = np.sum(counting_data)\n",
    "    q_hk=q_hk.flatten()\n",
    "    EFF[0], EFF[1], EFF[2], EFF[3] = EFF[0].flatten(), EFF[1].flatten(), EFF[2].flatten(), EFF[3].flatten()\n",
    "    h0, h1, h2, h3 = (counting_data[0]/N_tot)*(np.outer(EFF[0],EFF[0]))/(np.sum(q_hk*EFF[0])), (counting_data[1]/N_tot)*(np.outer(EFF[1],EFF[1]))/(np.sum(q_hk*EFF[1])), (counting_data[2]/N_tot)*(np.outer(EFF[2],EFF[2]))/(np.sum(q_hk*EFF[2])), (counting_data[3]/N_tot)*(np.outer(EFF[3],EFF[3]))/(np.sum(q_hk*EFF[3])) \n",
    "    \n",
    "    return h0+h1+h2+h3"
   ]
  },
  {
   "cell_type": "code",
   "execution_count": 20,
   "metadata": {},
   "outputs": [],
   "source": [
    "def function(q_hk):\n",
    "    return discrete_loglikelihood(q_hk,grid_effects(10,10),Counting_DiracDelta,10,10)"
   ]
  },
  {
   "cell_type": "code",
   "execution_count": 21,
   "metadata": {},
   "outputs": [],
   "source": [
    "def jacobian(q_hk):\n",
    "    return derivative(q_hk,grid_effects(10,10),Counting_DiracDelta,10,10)"
   ]
  },
  {
   "cell_type": "code",
   "execution_count": 22,
   "metadata": {},
   "outputs": [],
   "source": [
    "def hessian(q_hk):\n",
    "    return derivative_2(q_hk,grid_effects(10,10),Count)"
   ]
  },
  {
   "cell_type": "code",
   "execution_count": 23,
   "metadata": {},
   "outputs": [],
   "source": [
    "Dataset_Diracdelta = np.load('./Data/Dataset_DiracDelta_SICPOVM.npy')\n",
    "Counting_DiracDelta = [(Dataset_Diracdelta[0:100]==j).sum() for j in range(int(max(Dataset_Diracdelta))+1)]"
   ]
  },
  {
   "cell_type": "code",
   "execution_count": 105,
   "metadata": {},
   "outputs": [],
   "source": [
    "def maximum_likelihood_script(dataset_path,max_size_dataset,Mx,My):\n",
    "    Dataset = np.load(dataset_path)\n",
    "    counting_data = [(Dataset[0:max_size_dataset]==j).sum() for j in range(int(max(Dataset))+1)]\n",
    "    \n",
    "    \n",
    "    #Build the constraints\n",
    "    P_min = []\n",
    "    P_max = []\n",
    "    for k in range(Mx*My):\n",
    "        P_min.append(0)\n",
    "        P_max.append(1)\n",
    "    linear = P_max\n",
    "    bounds = Bounds(P_min,P_max,keep_feasible=True)\n",
    "    linear_constraint = LinearConstraint(linear,1,1,keep_feasible=True)\n",
    "    \n",
    "    #Random Initial conditions\n",
    "    #x0 = np.random.rand(Mx*My)\n",
    "    #x0 = x0/np.sum(x0)\n",
    "    #print(x0)\n",
    "    x0 = np.ones(Mx*My)/(Mx*My)\n",
    "    \n",
    "    #Define the function\n",
    "    def function(q_hk):\n",
    "        return discrete_loglikelihood(q_hk,grid_effects(Mx,My),counting_data,Mx,My)\n",
    "    def jacobian(q_hk):\n",
    "        return derivative(q_hk,grid_effects(Mx,My),counting_data,Mx,My)\n",
    "    def hessian(q_hk):\n",
    "        return derivative_2(q_hk,grid_effects(Mx,My),counting_data,Mx,My)\n",
    "    \n",
    "    res = minimize(function, x0, method='trust-constr', bounds=bounds, constraints=linear_constraint)\n",
    "    return res"
   ]
  },
  {
   "cell_type": "code",
   "execution_count": 110,
   "metadata": {},
   "outputs": [],
   "source": [
    "output = maximum_likelihood_script('./Data/Dataset_DiracDelta_SICPOVM.npy',500,20,20)\n",
    "mle_dist = output.x\n",
    "mle_dist = mle_dist.reshape(20,20)"
   ]
  },
  {
   "cell_type": "code",
   "execution_count": 111,
   "metadata": {
    "scrolled": true
   },
   "outputs": [
    {
     "data": {
      "image/png": "[encoded data removed]",
      "text/plain": [
       "<Figure size 360x360 with 2 Axes>"
      ]
     },
     "metadata": {
      "needs_background": "light"
     },
     "output_type": "display_data"
    }
   ],
   "source": [
    "P_k, PHI_j, P_grid, PHI_grid, P, PHI = qubit_grid(20,20)\n",
    "colorplot_distribution(P_grid,PHI_grid,mle_dist)"
   ]
  },
  {
   "cell_type": "code",
   "execution_count": 115,
   "metadata": {},
   "outputs": [
    {
     "data": {
      "image/png": "[encoded data removed]",
      "text/plain": [
       "<Figure size 1008x504 with 4 Axes>"
      ]
     },
     "metadata": {
      "needs_background": "light"
     },
     "output_type": "display_data"
    }
   ],
   "source": [
    "plot_distribution_comparison(P_grid,PHI_grid,original_diracdelta(0.61,np.pi/4,20,20),mle_dist,size=(15,10),title1='Original',title2='Maximum Likelihood Estimation'.format(500),labelx='x',labely='y')\n"
   ]
  },
  {
   "cell_type": "code",
   "execution_count": null,
   "metadata": {},
   "outputs": [],
   "source": []
  },
  {
   "cell_type": "code",
   "execution_count": null,
   "metadata": {},
   "outputs": [],
   "source": []
  },
  {
   "cell_type": "code",
   "execution_count": null,
   "metadata": {},
   "outputs": [],
   "source": []
  },
  {
   "cell_type": "code",
   "execution_count": null,
   "metadata": {},
   "outputs": [],
   "source": []
  },
  {
   "cell_type": "code",
   "execution_count": null,
   "metadata": {},
   "outputs": [],
   "source": []
  },
  {
   "cell_type": "code",
   "execution_count": null,
   "metadata": {},
   "outputs": [],
   "source": []
  },
  {
   "cell_type": "code",
   "execution_count": null,
   "metadata": {},
   "outputs": [],
   "source": []
  },
  {
   "cell_type": "markdown",
   "metadata": {},
   "source": [
    "# Global optimization try"
   ]
  },
  {
   "cell_type": "code",
   "execution_count": null,
   "metadata": {},
   "outputs": [],
   "source": []
  },
  {
   "cell_type": "code",
   "execution_count": 104,
   "metadata": {},
   "outputs": [
    {
     "ename": "SyntaxError",
     "evalue": "invalid syntax (<ipython-input-104-4a716f1cc4d8>, line 11)",
     "output_type": "error",
     "traceback": [
      "\u001b[0;36m  File \u001b[0;32m\"<ipython-input-104-4a716f1cc4d8>\"\u001b[0;36m, line \u001b[0;32m11\u001b[0m\n\u001b[0;31m    cons = ({'type': 'eq', 'fun': lambda x: np.sum(x)-1}, 'jac':1)\u001b[0m\n\u001b[0m                                                               ^\u001b[0m\n\u001b[0;31mSyntaxError\u001b[0m\u001b[0;31m:\u001b[0m invalid syntax\n"
     ]
    }
   ],
   "source": [
    "def global_maximum_likelihood_script(dataset_path,max_size_dataset,Mx,My):\n",
    "    Dataset = np.load(dataset_path)\n",
    "    counting_data = [(Dataset[0:max_size_dataset]==j).sum() for j in range(int(max(Dataset))+1)]\n",
    "    \n",
    "    \n",
    "    #Build the constraints\n",
    "    bounds=[(0,1),]*(Mx*My)\n",
    "    #\n",
    "    #bounds=Bounds(((0,1),)*(Mx*My),keep_feasible=True)\n",
    "    #linear_constraint = LinearConstraint([1]*(Mx*My),1,1,keep_feasible=True)\n",
    "    cons = ({'type': 'eq', 'fun': lambda x: np.sum(x)-1})\n",
    "    \n",
    "    #Random Initial conditions\n",
    "    x0 = np.random.rand(Mx*My)\n",
    "    x0 = x0/np.sum(x0)\n",
    "    #print(x0)\n",
    "    #x0 = np.ones(Mx*My)/(Mx*My)\n",
    "    \n",
    "    #Define the function\n",
    "    def function(q_hk):\n",
    "        return discrete_loglikelihood(q_hk,grid_effects(Mx,My),counting_data,Mx,My)\n",
    "    def jacobian(q_hk):\n",
    "        return derivative(q_hk,grid_effects(Mx,My),counting_data,Mx,My)\n",
    "    def hessian(q_hk):\n",
    "        return derivative_2(q_hk,grid_effects(Mx,My),counting_data,Mx,My)\n",
    "    \n",
    "    res = shgo(function, bounds, constraints=cons)\n",
    "    return res"
   ]
  },
  {
   "cell_type": "code",
   "execution_count": null,
   "metadata": {},
   "outputs": [],
   "source": []
  },
  {
   "cell_type": "code",
   "execution_count": 30,
   "metadata": {},
   "outputs": [],
   "source": [
    "def colorplot_distribution(P_grid,PHI_grid,Dist,size=(5,5),colmap='YlOrBr',title='Qubit Distribution'):\n",
    "    \n",
    "    levels = MaxNLocator(nbins=25).tick_values(Dist.min(),Dist.max())\n",
    "\n",
    "    # pick the desired colormap, sensible levels, and define a normalization\n",
    "    # instance which takes data values and translates those into levels.\n",
    "    cmap = plt.get_cmap(colmap)\n",
    "    norm = BoundaryNorm(levels, ncolors=cmap.N, clip=True)\n",
    "\n",
    "    fig, ax0 = plt.subplots(figsize=size)\n",
    "    #X-axis goes from 0 to 1\n",
    "    # Major xticks every 0.2, minor xticks every 0.05\n",
    "    major_xticks = np.arange(0, 1.01, 5/20)\n",
    "    minor_xticks = np.arange(0, 1.01, 1/20)\n",
    "\n",
    "    #Y-axis goes from 0 to 2pi\n",
    "    # Major yticks every 2pi*5/M, minor xticks every 2pi*/M\n",
    "    major_yticks = np.arange(-np.pi, np.pi+0.01, 2*np.pi*5/20)\n",
    "    minor_yticks = np.arange(-np.pi, np.pi+0.01, 2*np.pi/20)\n",
    "\n",
    "    ax0.set_xticks(major_xticks)\n",
    "    ax0.set_xticks(minor_xticks, minor=True)\n",
    "    ax0.set_xlabel('p',fontsize=30)\n",
    "    #x_label = [r\"$0$\", r\"$\\frac{1}{4}$\", r\"$\\frac{1}{2}$\", r\"$\\frac{3}{2}$\", r\"$1$\"]\n",
    "    #ax0.set_xticklabels(x_label, fontsize=20)\n",
    "\n",
    "    ax0.set_yticks(major_yticks)\n",
    "    ax0.set_yticks(minor_yticks, minor=True)\n",
    "    ax0.set_ylabel('$\\phi$',fontsize=30)\n",
    "    #y_label = [ r\"$-\\pi$\",r\"$-\\frac{1}{2}\\pi$\",r\"$0$\", r\"$\\frac{1}{2}\\pi$\", r\"$\\pi$\"]\n",
    "    #ax0.set_yticklabels(y_label, fontsize=20)\n",
    "\n",
    "    # Or if you want different settings for the grids:\n",
    "\n",
    "    im = ax0.pcolormesh(P_grid, PHI_grid, np.transpose(Dist), cmap=cmap, norm=norm)\n",
    "    fig.colorbar(im, ax=ax0)\n",
    "    ax0.set_title(title,fontsize=20)\n",
    "    ax0.grid(True,which='minor', axis='both',alpha=0.2)\n",
    "    ax0.grid(which='major', alpha=1)"
   ]
  },
  {
   "cell_type": "code",
   "execution_count": 112,
   "metadata": {},
   "outputs": [],
   "source": [
    "def plot_distribution_comparison(P_grid,PHI_grid,Dist1,Dist2,size=(10,10),colmap='YlOrBr',title1='Qubit Distribution 1',title2='Qubit Distribution 2',labelx = 'p', labely = '$\\phi$',save='N'):\n",
    "    levels1 = MaxNLocator(nbins=25).tick_values(Dist1.min(),Dist1.max())\n",
    "    levels2 = MaxNLocator(nbins=25).tick_values(Dist2.min(),Dist2.max())\n",
    "    # pick the desired colormap, sensible levels, and define a normalization\n",
    "    # instance which takes data values and translates those into levels.\n",
    "    cmap = plt.get_cmap(colmap)\n",
    "    norm1 = BoundaryNorm(levels1, ncolors=cmap.N, clip=True)\n",
    "    norm2 = BoundaryNorm(levels2, ncolors=cmap.N, clip=True)\n",
    "\n",
    "    fig, (ax0, ax1) = plt.subplots(ncols=2, figsize=(14,7))\n",
    "    #X-axis goes from 0 to 1\n",
    "    # Major xticks every 0.2, minor xticks every 0.05\n",
    "    major_xticks = np.arange(0, 1.01, 5/20)\n",
    "    minor_xticks = np.arange(0, 1.01, 1/20)\n",
    "\n",
    "    #Y-axis goes from 0 to 2pi\n",
    "    # Major yticks every 2pi*5/M, minor xticks every 2pi*/M\n",
    "    major_yticks = np.arange(-np.pi, np.pi+0.01, 2*np.pi*5/20)\n",
    "    minor_yticks = np.arange(-np.pi, np.pi+0.01, 2*np.pi/20)\n",
    "\n",
    "    ax0.set_xticks(major_xticks)\n",
    "    ax0.set_xticks(minor_xticks, minor=True)\n",
    "    ax0.set_xlabel(labelx,fontsize=30)\n",
    "    ax0.set_yticks(major_yticks)\n",
    "    ax0.set_yticks(minor_yticks, minor=True)\n",
    "    ax0.set_ylabel(labely,fontsize=30)\n",
    "    \n",
    "    ax1.set_xticks(major_xticks)\n",
    "    ax1.set_xticks(minor_xticks, minor=True)\n",
    "    ax1.set_xlabel(labelx,fontsize=30)\n",
    "    ax1.set_yticks(major_yticks)\n",
    "    ax1.set_yticks(minor_yticks, minor=True)\n",
    "    ax1.set_ylabel(labely,fontsize=30)\n",
    "\n",
    "\n",
    "    # Or if you want different settings for the grids:\n",
    "\n",
    "    im1 = ax0.pcolormesh(P_grid, PHI_grid, np.transpose(Dist1), cmap=cmap, norm=norm1)\n",
    "    fig.colorbar(im1, ax=ax0)\n",
    "    ax0.set_title(title1,fontsize=20)\n",
    "    ax0.grid(True,which='minor', axis='both',alpha=0.2)\n",
    "    ax0.grid(which='major', alpha=1)\n",
    "    \n",
    "    im2 = ax1.pcolormesh(P_grid, PHI_grid, np.transpose(Dist2), cmap=cmap, norm=norm2)\n",
    "    fig.colorbar(im2, ax=ax1)\n",
    "    ax1.set_title(title2,fontsize=20)\n",
    "    ax1.grid(True,which='minor', axis='both',alpha=0.2)\n",
    "    ax1.grid(which='major', alpha=1)\n",
    "    \n",
    "    fig.tight_layout()\n",
    "    \n",
    "    if save=='Y':\n",
    "        plt.savefig('./Plots/MaximumLikelihoodEstimation_DiracDelta.png')\n",
    "    "
   ]
  },
  {
   "cell_type": "code",
   "execution_count": null,
   "metadata": {},
   "outputs": [],
   "source": [
    "def total_variation_distance(P,Q):\n",
    "    return 0.5*np.sum(np.abs(P-Q))"
   ]
  },
  {
   "cell_type": "code",
   "execution_count": null,
   "metadata": {},
   "outputs": [],
   "source": [
    "def cartesian_prod(P,PHI):\n",
    "    aux = np.zeros((len(P),len(PHI),2))\n",
    "    for k in range(len(P)):\n",
    "        for j in range(len(PHI)):\n",
    "            aux[k,j,:] = P[k],PHI[j]\n",
    "    return aux"
   ]
  },
  {
   "cell_type": "code",
   "execution_count": null,
   "metadata": {},
   "outputs": [],
   "source": [
    "def average(Dist,P_val,PHI_val):\n",
    "    Pos = cartesian_prod(P_val,PHI_val)\n",
    "    return np.array([np.sum(Dist*Pos[:,:,0]),np.sum(Dist*Pos[:,:,1])])"
   ]
  },
  {
   "cell_type": "code",
   "execution_count": null,
   "metadata": {},
   "outputs": [],
   "source": [
    "def standard_deviation(Dist,P_val,PHI_val):\n",
    "    Var = (cartesian_prod(P_val,PHI_val)-average(Dist,P_val,PHI_val))**2\n",
    "    return np.sqrt(np.array([np.sum(Dist*Var[:,:,0]),np.sum(Dist*Var[:,:,1])]))"
   ]
  },
  {
   "cell_type": "markdown",
   "metadata": {},
   "source": [
    "### Build the original distributions"
   ]
  },
  {
   "cell_type": "code",
   "execution_count": 113,
   "metadata": {},
   "outputs": [],
   "source": [
    "#Given a pure state and a discretization of the grid, find the square the state belongs to\n",
    "def discrete_pphi(x0,y0,Mp,Mphi):\n",
    "    P_k, PHI_j, P_vec, PHI_vec, P, PHI = qubit_grid(Mp,Mphi)\n",
    "    k = np.argmin(abs(P_k[:]-x0))\n",
    "    j = np.argmin(abs(PHI_j[:]-y0))\n",
    "    return k,j"
   ]
  },
  {
   "cell_type": "code",
   "execution_count": 114,
   "metadata": {},
   "outputs": [],
   "source": [
    "def original_diracdelta(x0,y0,Mp,Mphi):\n",
    "    dist = np.zeros((Mp,Mphi))\n",
    "    k, j = discrete_pphi(x0,y0,Mp,Mphi)\n",
    "    dist[k,j] = 1\n",
    "    return dist"
   ]
  },
  {
   "cell_type": "code",
   "execution_count": null,
   "metadata": {},
   "outputs": [],
   "source": [
    "Dataset_Diracdelta = np.load('./Data/Dataset_DiracDelta_SICPOVM.npy')\n",
    "Counting_DiracDelta = [(Dataset_Diracdelta[0:500]==j).sum() for j in range(int(max(Dataset_Diracdelta))+1)]"
   ]
  },
  {
   "cell_type": "code",
   "execution_count": null,
   "metadata": {},
   "outputs": [],
   "source": [
    "BayesianEstimate_DiracDelta = bayesian_estimate_distribution(Counting_DiracDelta,20,20)"
   ]
  },
  {
   "cell_type": "code",
   "execution_count": null,
   "metadata": {},
   "outputs": [],
   "source": [
    "total_variation_distance(BayesianEstimate_DiracDelta,original_diracdelta(0.61,np.pi/4,20,20))"
   ]
  },
  {
   "cell_type": "code",
   "execution_count": null,
   "metadata": {},
   "outputs": [],
   "source": [
    "plot_distribution_comparison(P_grid,PHI_grid,original_diracdelta(0.61,np.pi/4,20,20),BayesianEstimate_DiracDelta,size=(15,10),title1='Original',title2='Bayesian Estimation, N={}'.format(500),labelx='x',labely='y',save='Y')"
   ]
  },
  {
   "cell_type": "code",
   "execution_count": null,
   "metadata": {},
   "outputs": [],
   "source": [
    "num = 12\n",
    "performance_be = np.zeros(num)\n",
    "for k in range(1,num+1):\n",
    "    print('Working on k = {}'.format(k))\n",
    "    start = time.time()\n",
    "    sample_size = k*50\n",
    "    Counting_DiracDelta = [(Dataset_Diracdelta[0:sample_size]==j).sum() for j in range(int(max(Dataset_Diracdelta))+1)]\n",
    "    Estimate = bayesian_estimate_distribution(Counting_DiracDelta,20,20)\n",
    "    performance_be[k-1]=total_variation_distance(Estimate,original_diracdelta(0.61,np.pi/4,20,20))\n",
    "    end = time.time()\n",
    "    print('Elapsed time = {}'.format(end-start))\n",
    "    "
   ]
  },
  {
   "cell_type": "code",
   "execution_count": null,
   "metadata": {},
   "outputs": [],
   "source": [
    "num_observed = np.linspace(50,600,12)\n",
    "print(nu)"
   ]
  },
  {
   "cell_type": "code",
   "execution_count": null,
   "metadata": {},
   "outputs": [],
   "source": [
    "len(performance_be)"
   ]
  },
  {
   "cell_type": "code",
   "execution_count": null,
   "metadata": {},
   "outputs": [],
   "source": [
    "fig, ax = plt.subplots(figsize=(20,10))\n",
    "ax.plot(num_observed,performance_be,'o',markersize=20,label='$TV(q_{BE},q)$')\n",
    "ax.set_xlabel('Number of measurements',fontsize=25)\n",
    "ax.set_ylabel('Total variation distance',fontsize=25)\n",
    "ax.legend(fontsize=25)\n",
    "ax.tick_params(labelsize=25)\n",
    "plt.savefig('./Plots/Performance_BE_DiracDelta')\n",
    "plt.show()"
   ]
  },
  {
   "cell_type": "code",
   "execution_count": null,
   "metadata": {},
   "outputs": [],
   "source": []
  },
  {
   "cell_type": "code",
   "execution_count": null,
   "metadata": {},
   "outputs": [],
   "source": []
  }
 ],
 "metadata": {
  "kernelspec": {
   "display_name": "Python 3",
   "language": "python",
   "name": "python3"
  },
  "language_info": {
   "codemirror_mode": {
    "name": "ipython",
    "version": 3
   },
   "file_extension": ".py",
   "mimetype": "text/x-python",
   "name": "python",
   "nbconvert_exporter": "python",
   "pygments_lexer": "ipython3",
   "version": "3.7.6"
  }
 },
 "nbformat": 4,
 "nbformat_minor": 4
}
