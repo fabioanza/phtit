{
 "cells": [
  {
   "cell_type": "code",
   "execution_count": 1,
   "metadata": {},
   "outputs": [],
   "source": [
    "import numpy as np\n",
    "import dit\n",
    "#import time\n",
    "#import matplotlib.pyplot as plt\n",
    "\n",
    "%matplotlib inline"
   ]
  },
  {
   "cell_type": "code",
   "execution_count": 3,
   "metadata": {
    "scrolled": true
   },
   "outputs": [
    {
     "name": "stdout",
     "output_type": "stream",
     "text": [
      "0\n",
      "1\n",
      "2\n",
      "3\n",
      "4\n",
      "5\n",
      "6\n",
      "7\n",
      "0\n",
      "1\n",
      "2\n",
      "3\n",
      "4\n",
      "5\n",
      "6\n",
      "7\n",
      "8\n",
      "0\n",
      "1\n",
      "2\n",
      "3\n",
      "4\n",
      "5\n",
      "6\n",
      "7\n",
      "8\n",
      "9\n"
     ]
    }
   ],
   "source": [
    "for n in range(8,11):\n",
    "    title=str('Dynamic Data/LocalDyn_XXZ_DEL=0.2_dt=0.01_Nt=10**6_L='+str(n)+'_MagY.npy')\n",
    "    data=np.load(title)\n",
    "    #Define the dit distributions, from the Magnetization data\n",
    "    chain_size = min(data.shape)\n",
    "    sample_size = max(data.shape)\n",
    "    #Empty array where the MonteCarlo Output will go\n",
    "    MC_sim = np.empty([chain_size, sample_size])\n",
    "    #for loop runs a chain_zie times and each time goes over entire array of distributions and takes samples\n",
    "    Time = np.zeros(chain_size)\n",
    "    for k in range(0,chain_size):\n",
    "        p_ups=(1+data[:,k])/2\n",
    "        distribution = [dit.ScalarDistribution(['-1','1'],[p_ups[i], 1- p_ups[i]]) for i in range(len(p_ups))]\n",
    "        MC_sim[k] = [d.rand() for d in distribution]\n",
    "        print(k)\n",
    "    np.save('MC/MCSample_'+str(title[22:]), MC_sim)"
   ]
  },
  {
   "cell_type": "code",
   "execution_count": null,
   "metadata": {},
   "outputs": [],
   "source": []
  }
 ],
 "metadata": {
  "anaconda-cloud": {},
  "kernelspec": {
   "display_name": "Python [conda root]",
   "language": "python",
   "name": "conda-root-py"
  },
  "language_info": {
   "codemirror_mode": {
    "name": "ipython",
    "version": 3
   },
   "file_extension": ".py",
   "mimetype": "text/x-python",
   "name": "python",
   "nbconvert_exporter": "python",
   "pygments_lexer": "ipython3",
   "version": "3.5.2"
  }
 },
 "nbformat": 4,
 "nbformat_minor": 2
}
