{
 "cells": [
  {
   "cell_type": "code",
   "execution_count": 1,
   "metadata": {},
   "outputs": [],
   "source": [
    "import numpy as np\n",
    "import datagen_Heisenberg as dgen\n",
    "import datagen_Config as dgen_conf\n",
    "import calculations as tools\n",
    "import geometric_tools as gt\n",
    "import matplotlib.pyplot as plt\n",
    "import matplotlib.gridspec as gridspec\n",
    "import visualization as vis\n",
    "from information_dynamics import dot_computation"
   ]
  },
  {
   "cell_type": "code",
   "execution_count": 2,
   "metadata": {},
   "outputs": [],
   "source": [
    "J_vec = np.array([1,1,0])\n",
    "B_vec = np.array([3,1,0])\n",
    "delta_t = 0.02\n",
    "T=1000\n",
    "L = 4\n",
    "psi0 =np.zeros(2**L,dtype=complex)\n",
    "psi0[5] = 1\n",
    "psi0_tag = 'zzzzzz_000101'\n",
    "bc='closed'\n",
    "folder_path = \"./Test_Heisenberg\"\n",
    "\n",
    "datagen_Heisenberg_Test = dgen_conf.DataGen_Config(L,J_vec,B_vec,bc,delta_t,T,psi0,psi0_tag,folder_path)"
   ]
  },
  {
   "cell_type": "code",
   "execution_count": 3,
   "metadata": {},
   "outputs": [
    {
     "name": "stdout",
     "output_type": "stream",
     "text": [
      "Looking inside the database ./Test_Heisenberg/dyn_database.json\n",
      "The data was already generated. Retreiving it at ./Test_Heisenberg/dyn_11.pickle ... \n"
     ]
    }
   ],
   "source": [
    "DYN = datagen_Heisenberg_Test.datagen('dyn')"
   ]
  },
  {
   "cell_type": "code",
   "execution_count": 4,
   "metadata": {},
   "outputs": [],
   "source": [
    "sistema = [0]\n",
    "ambiente = [1,2,3]\n",
    "PROVA = tools.Geometric_QM(DYN[0:10],sistema,ambiente)\n",
    "PROVA_IT = tools.information_transport(DYN[0:17],delta_t,sistema,ambiente,10,10)"
   ]
  },
  {
   "cell_type": "code",
   "execution_count": 5,
   "metadata": {},
   "outputs": [],
   "source": [
    "JP_t, JP0_t, JP1_t, JPHI_t, JPHI0_t, JPHI1_t, SIGMA_t, SIGMA0_t, SIGMA1_t = PROVA_IT.fluxes_sources()"
   ]
  },
  {
   "cell_type": "code",
   "execution_count": null,
   "metadata": {},
   "outputs": [],
   "source": [
    "basis_sys = np.eye(2)\n",
    "basis_env = np.eye(2**(L-1))"
   ]
  },
  {
   "cell_type": "code",
   "execution_count": null,
   "metadata": {},
   "outputs": [],
   "source": [
    "x_alpha,p_alpha,phi_alpha, x_alpha_dot, p_alpha_dot, phi_alpha_dot = dot_computation(DYN[0:10],basis_sys,basis_env)"
   ]
  },
  {
   "cell_type": "code",
   "execution_count": null,
   "metadata": {},
   "outputs": [],
   "source": [
    "T0=20"
   ]
  },
  {
   "cell_type": "code",
   "execution_count": null,
   "metadata": {},
   "outputs": [],
   "source": [
    "IT_Test = gt.information_transport(11,11,p_alpha_dot[T0],phi_alpha_dot[T0],x_alpha_dot[T0],DYN[T0],basis_sys,basis_env)"
   ]
  },
  {
   "cell_type": "code",
   "execution_count": null,
   "metadata": {
    "scrolled": true
   },
   "outputs": [],
   "source": [
    "JP, JPHI, SIGMA, JP_0, JP_1, JPHI_0, JPHI_1, SIGMA_0, SIGMA_1 = IT_Test.fluxes_sources()"
   ]
  },
  {
   "cell_type": "code",
   "execution_count": null,
   "metadata": {},
   "outputs": [],
   "source": [
    "scala = 0.05\n",
    "P_Bound, PHI_Bound, P_Center, PHI_Center = IT_Test.discretization_properties()\n",
    "vis.plot_flux(P_Bound, PHI_Bound, P_Center, PHI_Center,JP,JPHI,JP_0,JP_1,JPHI_0,JPHI_1,scala,20)\n",
    "vis.plot_sigma(P_Bound, PHI_Bound, P_Center, PHI_Center,SIGMA,SIGMA_0,SIGMA_1)\n",
    "plt.show()"
   ]
  },
  {
   "cell_type": "code",
   "execution_count": null,
   "metadata": {
    "scrolled": true
   },
   "outputs": [],
   "source": [
    "scala = 0.1\n",
    "for t in range(50):\n",
    "    IT_Test = gt.information_transport(11,11,p_alpha_dot[t],phi_alpha_dot[t],x_alpha_dot[t],DYN[t],basis_sys,basis_env)\n",
    "    JP, JPHI, SIGMA, JP_0, JP_1, JPHI_0, JPHI_1, SIGMA_0, SIGMA_1 = IT_Test.fluxes_sources()\n",
    "    P_Bound, PHI_Bound, P_Center, PHI_Center = IT_Test.discretization_properties()\n",
    "    vis.plot_sigma(P_Bound, PHI_Bound, P_Center, PHI_Center,SIGMA,SIGMA_0,SIGMA_1)\n",
    "    plt.savefig(\"./Test_Heisenberg/frames/time_{tt}.png\".format(tt=t))"
   ]
  },
  {
   "cell_type": "code",
   "execution_count": null,
   "metadata": {},
   "outputs": [],
   "source": [
    "scala = np.amax([np.amax(JP),np.amax(JPHI)/(2*np.pi)])*5\n",
    "P_Bound, PHI_Bound, P_Center, PHI_Center = IT_Test.discretization_properties()\n",
    "vis.plot_flux(P_Bound, PHI_Bound, P_Center, PHI_Center,JP,JPHI,JP_0,JP_1,JPHI_0,JPHI_1,scala,20)\n",
    "#vis.plot_sigma(P_Bound, PHI_Bound, P_Center, PHI_Center,SIGMA,SIGMA_0,SIGMA_1)\n",
    "plt.show()"
   ]
  },
  {
   "cell_type": "code",
   "execution_count": null,
   "metadata": {},
   "outputs": [],
   "source": []
  }
 ],
 "metadata": {
  "kernelspec": {
   "display_name": "Python 3",
   "language": "python",
   "name": "python3"
  },
  "language_info": {
   "codemirror_mode": {
    "name": "ipython",
    "version": 3
   },
   "file_extension": ".py",
   "mimetype": "text/x-python",
   "name": "python",
   "nbconvert_exporter": "python",
   "pygments_lexer": "ipython3",
   "version": "3.7.6"
  }
 },
 "nbformat": 4,
 "nbformat_minor": 4
}
