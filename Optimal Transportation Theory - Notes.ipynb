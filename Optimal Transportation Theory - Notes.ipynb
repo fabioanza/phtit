{
 "cells": [
  {
   "cell_type": "markdown",
   "metadata": {
    "nbpresent": {
     "id": "da1ee771-802d-41fb-82e6-c6fb17bb050c"
    }
   },
   "source": [
    "# Optimal Transportation Theory\n",
    "\n",
    "## Notes for the Group Meeting @ CSC, on the 27th of February 2019"
   ]
  },
  {
   "cell_type": "markdown",
   "metadata": {},
   "source": [
    "%%latex\n",
    "\n",
    "$\\underline{\\mathrm{References:}}$\n",
    "\n",
    "1) Wikipedia pages\n",
    "    - Transportation Theory (Mathematics)\n",
    "    - Wasserstein Metric\n",
    "    \n",
    "    \n",
    "2) Introduction to optima transport theory\n",
    "F. Santambrogio; ArXiv:1009:3856v1\n",
    "\n",
    "\n",
    "3) A brief introduction to optima transport theory\n",
    "D.P. Bourne (2018)\n",
    "www.maths.gla.ac.uk/~gbellamy/LMS/BourneLectures.pdf\n",
    "\n",
    "\n",
    "4) Notions of Optimal transport theory and how to implement them on a computer\n",
    "B. Levy and E. Schwindt - ArXiv:1710.02634v1\n",
    "\n",
    "\n",
    "5) The book \"Optimal transport: old and new\" by C. Villany (2009)\n",
    "\n",
    "\n",
    "6) The Monge-Kantorovich Problem: Achievements, Connections and Perspectives\n",
    "V.I. Bogachev and A.V. Kolesnikov\n",
    "2012 Russ. Math. Surv. 67 785\n",
    "\n",
    "\n",
    "I will follow Ref. 4 for the exposition. However, for the details, language and techniques I will be tapping into the first 4 references.   \n",
    "\n",
    "\n",
    "$$ H = \\sum \\limits_{i}{\\sigma^x_i \\sigma^x_{i+1} + \\sigma^y_i \\sigma^y_{i+1} + \\Delta \\sigma^z_i \\sigma^z_{i+1}}$$\n",
    "\n",
    "With $\\Delta = 0.2$ and time step $dt = 0.005$.\n",
    "\n"
   ]
  },
  {
   "cell_type": "code",
   "execution_count": null,
   "metadata": {},
   "outputs": [],
   "source": []
  }
 ],
 "metadata": {
  "anaconda-cloud": {},
  "kernelspec": {
   "display_name": "Python [conda env:anaconda]",
   "language": "python",
   "name": "conda-env-anaconda-py"
  },
  "language_info": {
   "codemirror_mode": {
    "name": "ipython",
    "version": 3
   },
   "file_extension": ".py",
   "mimetype": "text/x-python",
   "name": "python",
   "nbconvert_exporter": "python",
   "pygments_lexer": "ipython3",
   "version": "3.5.2"
  },
  "nbpresent": {
   "slides": {},
   "themes": {
    "default": "1b759934-ce41-415e-8f7b-73c513967da9",
    "theme": {}
   }
  }
 },
 "nbformat": 4,
 "nbformat_minor": 2
}
